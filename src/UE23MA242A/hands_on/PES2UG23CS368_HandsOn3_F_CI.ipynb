{
 "cells": [
  {
   "cell_type": "markdown",
   "metadata": {
    "id": "UZeuRDIy1IcK"
   },
   "source": [
    "# Sampling Distributions"
   ]
  },
  {
   "cell_type": "markdown",
   "metadata": {
    "id": "j8nEyBsH1IcN"
   },
   "source": [
    "Statistical inference is the process of analyzing sample data to gain insight into the population from which the data was collected and to investigate differences between data samples. In data analysis, we are often interested in the characteristics of some large population, but collecting data on the entire population may be infeasible. For example, leading up to U.S. presidential elections it could be very useful to know the political leanings of every single eligible voter, but surveying every voter is not feasible. Instead, we could poll some subset of the population, such as a thousand registered voters, and use that data to make inferences about the population as a whole."
   ]
  },
  {
   "cell_type": "code",
   "execution_count": 2,
   "metadata": {
    "id": "NdaCVB8s1IcV"
   },
   "outputs": [],
   "source": [
    "# Dependencies\n",
    "import numpy as np\n",
    "import pandas as pd\n",
    "import scipy.stats as stats\n",
    "import matplotlib.pyplot as plt\n",
    "import random\n",
    "import math"
   ]
  },
  {
   "cell_type": "markdown",
   "metadata": {
    "id": "RuWLR0l-1IcX"
   },
   "source": [
    "## Point Estimates\n",
    "Point estimates are estimates of population parameters based on sample data. For instance, if we wanted to know the average age of registered voters in the U.S., we could take a survey of registered voters and then use the average age of the respondents as a point estimate of the average age of the population as a whole. The average of a sample is known as the sample mean.\n",
    "\n",
    "The sample mean is usually not exactly the same as the population mean. This difference can be caused by many factors including poor survey design, biased sampling methods and the randomness inherent to drawing a sample from a population. Let's investigate point estimates by generating a population of random age data and then drawing a sample from it to estimate the mean:"
   ]
  },
  {
   "cell_type": "code",
   "execution_count": 3,
   "metadata": {
    "colab": {
     "base_uri": "https://localhost:8080/"
    },
    "id": "8EjnIYDS1IcX",
    "outputId": "72663852-b99b-4138-db66-62f34117d309"
   },
   "outputs": [
    {
     "data": {
      "text/plain": [
       "np.float64(43.002372)"
      ]
     },
     "execution_count": 3,
     "metadata": {},
     "output_type": "execute_result"
    }
   ],
   "source": [
    "np.random.seed(10)\n",
    "population_ages1 = stats.poisson.rvs(loc=18, mu=35, size=150000)\n",
    "population_ages2 = stats.poisson.rvs(loc=18, mu=10, size=100000)\n",
    "population_ages = np.concatenate((population_ages1, population_ages2))\n",
    "\n",
    "population_ages.mean()"
   ]
  },
  {
   "cell_type": "code",
   "execution_count": 4,
   "metadata": {
    "colab": {
     "base_uri": "https://localhost:8080/"
    },
    "id": "z1FN8uaL1IcY",
    "outputId": "fb5197c2-2ea2-4287-ec19-3e5e0738cce6"
   },
   "outputs": [
    {
     "name": "stdout",
     "output_type": "stream",
     "text": [
      "42.665\n"
     ]
    },
    {
     "data": {
      "text/plain": [
       "np.float64(0.337372000000002)"
      ]
     },
     "execution_count": 4,
     "metadata": {},
     "output_type": "execute_result"
    }
   ],
   "source": [
    "np.random.seed(6)\n",
    "sample_ages = np.random.choice(a= population_ages,\n",
    "                               size=1000)            # Sample 1000 values\n",
    "\n",
    "print ( sample_ages.mean() )                         # Show sample mean\n",
    "\n",
    "population_ages.mean() - sample_ages.mean()   # Check difference between means"
   ]
  },
  {
   "cell_type": "markdown",
   "metadata": {
    "id": "ozUfL_Pc1IcZ"
   },
   "source": [
    "Our point estimate based on a sample of 500 individuals underestimates the true population mean by 0.6 years, but it is close. This illustrates an important point: we can get a fairly accurate estimate of a large population by sampling a relatively small subset of individuals.\n",
    "\n",
    "Another point estimate that may be of interest is the proportion of the population that belongs to some category or subgroup. For example, we might like to know the race of each voter we poll, to get a sense of the overall demographics of the voter base. You can make a point estimate of this sort of proportion by taking a sample and then checking the ratio in the sample:"
   ]
  },
  {
   "cell_type": "code",
   "execution_count": 5,
   "metadata": {
    "colab": {
     "base_uri": "https://localhost:8080/"
    },
    "id": "74g71Yht1Ica",
    "outputId": "27b3d12d-ae62-40c1-c1d4-424882222fa9"
   },
   "outputs": [
    {
     "name": "stdout",
     "output_type": "stream",
     "text": [
      "asian proportion estimate:\n",
      "0.099\n",
      "hispanic proportion estimate:\n",
      "0.192\n",
      "other proportion estimate:\n",
      "0.099\n",
      "white proportion estimate:\n",
      "0.379\n",
      "black proportion estimate:\n",
      "0.231\n"
     ]
    }
   ],
   "source": [
    "random.seed(10)\n",
    "population_races = ([\"white\"]*100000) + ([\"black\"]*50000) +\\\n",
    "                   ([\"hispanic\"]*50000) + ([\"asian\"]*25000) +\\\n",
    "                   ([\"other\"]*25000)  # total population is 250000\n",
    "\n",
    "demo_sample = random.sample(population_races, 1000)   # Sample 1000 values\n",
    "\n",
    "for race in set(demo_sample):\n",
    "    print( race + \" proportion estimate:\" )\n",
    "    print( demo_sample.count(race)/1000 )"
   ]
  },
  {
   "cell_type": "markdown",
   "metadata": {
    "id": "F5D4htiw1Ica"
   },
   "source": [
    "Notice that the proportion estimates are close to the true underlying population proportions."
   ]
  },
  {
   "cell_type": "markdown",
   "metadata": {
    "id": "pQ9skqCm1Icd"
   },
   "source": [
    "## Confidence Intervals\n",
    "A point estimate can give you a rough idea of a population parameter like the mean, but estimates are prone to error and taking multiple samples to get improved estimates may not be feasible. A confidence interval is a range of values above and below a point estimate that captures the true population parameter at some predetermined confidence level. For example, if you want to have a 95% chance of capturing the true population parameter with a point estimate and a corresponding confidence interval, you'd set your confidence level to 95%. Higher confidence levels result in a wider confidence intervals.\n",
    "\n",
    "Calculate a confidence interval by taking a point estimate and then adding and subtracting a margin of error to create a range. Margin of error is based on your desired confidence level, the spread of the data and the size of your sample. The way you calculate the margin of error depends on whether you know the standard deviation of the population or not.\n",
    "\n",
    "If you know the standard deviation of the population, the margin of error is equal to:\n",
    "\n",
    "`z*σ/sqrt(n)`\n",
    "\n",
    "Where σ (sigma) is the population standard deviation, n is sample size, and z is a number known as the z-critical value. The z-critical value is the number of standard deviations you'd have to go from the mean of the normal distribution to capture the proportion of the data associated with the desired confidence level. For instance, we know that roughly 95% of the data in a normal distribution lies within 2 standard deviations of the mean, so we could use 2 as the z-critical value for a 95% confidence interval (although it is more exact to get z-critical values with stats.norm.ppf().).\n",
    "\n",
    "Let's calculate a 95% confidence for our mean point estimate:"
   ]
  },
  {
   "cell_type": "code",
   "execution_count": 6,
   "metadata": {
    "colab": {
     "base_uri": "https://localhost:8080/"
    },
    "id": "RJAaRz2Z1Ice",
    "outputId": "6eaf7355-182a-474a-b98f-55222462d897"
   },
   "outputs": [
    {
     "name": "stdout",
     "output_type": "stream",
     "text": [
      "42.523\n",
      "z-critical value:\n",
      "1.959963984540054\n",
      "Confidence interval:\n",
      "(np.float64(41.70306406882683), np.float64(43.34293593117317))\n"
     ]
    }
   ],
   "source": [
    "np.random.seed(10)\n",
    "\n",
    "sample_size = 1000\n",
    "sample = np.random.choice(a= population_ages, size = sample_size)\n",
    "sample_mean = sample.mean()\n",
    "print(sample_mean)\n",
    "\n",
    "z_critical = stats.norm.ppf(q = 0.975)  # Get the z-critical value*\n",
    "\n",
    "print(\"z-critical value:\")              # Check the z-critical value\n",
    "print(z_critical)\n",
    "\n",
    "pop_stdev = population_ages.std()  # Get the population standard deviation\n",
    "\n",
    "margin_of_error = z_critical * (pop_stdev/math.sqrt(sample_size))\n",
    "\n",
    "confidence_interval = (sample_mean - margin_of_error,\n",
    "                       sample_mean + margin_of_error)\n",
    "\n",
    "print(\"Confidence interval:\")\n",
    "print(confidence_interval)\n"
   ]
  },
  {
   "cell_type": "markdown",
   "metadata": {
    "id": "RqpV7ZHe1Ice"
   },
   "source": [
    "*Note: We use stats.norm.ppf(q = 0.975) to get the desired z-critical value instead of q = 0.95 because the distribution has two tails.*\n",
    "\n",
    "Notice that the confidence interval we calculated captures the true population mean of 43.0023.\n",
    "\n",
    "Let's create several confidence intervals and plot them to get a better sense of what it means to \"capture\" the true mean:"
   ]
  },
  {
   "cell_type": "code",
   "execution_count": 7,
   "metadata": {
    "id": "fT64nItS1Ice"
   },
   "outputs": [],
   "source": [
    "np.random.seed(12)\n",
    "\n",
    "sample_size = 1000\n",
    "\n",
    "intervals = []\n",
    "sample_means = []\n",
    "\n",
    "for sample in range(25):\n",
    "    sample = np.random.choice(a= population_ages, size = sample_size)\n",
    "    sample_mean = sample.mean()\n",
    "    sample_means.append(sample_mean)\n",
    "\n",
    "    z_critical = stats.norm.ppf(q = 0.975)  # Get the z-critical value*\n",
    "\n",
    "    pop_stdev = population_ages.std()  # Get the population standard deviation\n",
    "\n",
    "    stats.norm.ppf(q = 0.025)\n",
    "\n",
    "    margin_of_error = z_critical * (pop_stdev/math.sqrt(sample_size))\n",
    "\n",
    "    confidence_interval = (sample_mean - margin_of_error,\n",
    "                           sample_mean + margin_of_error)\n",
    "\n",
    "    intervals.append(confidence_interval)"
   ]
  },
  {
   "cell_type": "code",
   "execution_count": 8,
   "metadata": {
    "colab": {
     "base_uri": "https://localhost:8080/",
     "height": 753
    },
    "id": "m_668FWA1Icf",
    "outputId": "f041c1cb-9512-4858-a0c2-e4c54a9bd5fd"
   },
   "outputs": [
    {
     "data": {
      "image/png": "[encoded data removed]",
      "text/plain": [
       "<Figure size 900x900 with 1 Axes>"
      ]
     },
     "metadata": {},
     "output_type": "display_data"
    }
   ],
   "source": [
    "plt.figure(figsize=(9,9))\n",
    "\n",
    "plt.errorbar(x=np.arange(0.1, 25, 1),\n",
    "             y=sample_means,\n",
    "             yerr=[abs((top-bot)/2) for top,bot in intervals],\n",
    "             fmt='o')\n",
    "\n",
    "plt.hlines(xmin=0, xmax=25,\n",
    "           y=population_ages.mean(),\n",
    "           linewidth=2.0,\n",
    "           color=\"red\");"
   ]
  },
  {
   "cell_type": "markdown",
   "metadata": {
    "id": "_3B7JsSZOPAB"
   },
   "source": [
    "**Calculating a Confidence Interval for the Sample Mean**"
   ]
  },
  {
   "cell_type": "markdown",
   "metadata": {
    "id": "b2hux2Tm1Icf"
   },
   "source": [
    "Notice that in the plot above, all but one of the 95% confidence intervals overlap the red line marking the true mean. This is to be expected: since a 95% confidence interval captures the true mean 95% of the time, we'd expect our interval to miss the true mean 5% of the time.\n",
    "\n",
    "If you don't know the standard deviation of the population, you have to use the standard deviation of your sample as a stand in when creating confidence intervals. Since the sample standard deviation may not match the population parameter the interval will have more error when you don't know the population standard deviation. To account for this error, we use what's known as a t-critical value instead of the z-critical value. The t-critical value is drawn from what's known as a t-distribution--a distribution that closely resembles the normal distribution but that gets wider and wider as the sample size falls. The t-distribution is available in scipy.stats with the nickname \"t\" so we can get t-critical values with stats.t.ppf().\n",
    "\n",
    "Let's take a new, smaller sample and then create a confidence interval without the population standard deviation, using the t-distribution:"
   ]
  },
  {
   "cell_type": "code",
   "execution_count": 9,
   "metadata": {
    "colab": {
     "base_uri": "https://localhost:8080/"
    },
    "id": "0qbuz_CK1Icf",
    "outputId": "9dff7b96-6336-4a7d-deed-296b2455fdf9"
   },
   "outputs": [
    {
     "name": "stdout",
     "output_type": "stream",
     "text": [
      "t-critical value:\n",
      "2.0638985616280205\n",
      "Confidence interval:\n",
      "(np.float64(37.65147508161371), np.float64(48.108524918386294))\n"
     ]
    }
   ],
   "source": [
    "np.random.seed(10)\n",
    "\n",
    "sample_size = 25\n",
    "sample = np.random.choice(a= population_ages, size = sample_size)\n",
    "sample_mean = sample.mean()\n",
    "\n",
    "t_critical = stats.t.ppf(q = 0.975, df=24)  # Get the t-critical value*\n",
    "\n",
    "print(\"t-critical value:\")                  # Check the t-critical value\n",
    "print(t_critical)\n",
    "\n",
    "sample_stdev = sample.std(ddof=1)    # Get the sample standard deviation\n",
    "\n",
    "sigma = sample_stdev/math.sqrt(sample_size)  # Standard deviation estimate\n",
    "margin_of_error = t_critical * sigma\n",
    "\n",
    "confidence_interval = (sample_mean - margin_of_error,\n",
    "                       sample_mean + margin_of_error)\n",
    "\n",
    "print(\"Confidence interval:\")\n",
    "print(confidence_interval)"
   ]
  },
  {
   "cell_type": "markdown",
   "metadata": {
    "id": "1-biKo_D1Icf"
   },
   "source": [
    "*Note: when using the t-distribution, you have to supply the degrees of freedom (df). For this type of test, the degrees of freedom is equal to the sample size minus 1. If you have a large sample size, the t-distribution approaches the normal distribution.*\n",
    "\n",
    "Notice that the t-critical value is larger than the z-critical value we used for 95% confidence interval. This allows the confidence interval to cast a larger net to make up for the variability caused by using the sample standard deviation in place of the population standard deviation. The end result is a much wider confidence interval (an interval with a larger margin of error.).\n",
    "\n",
    "If you have a large sample, the t-critical value will approach the z-critical value so there is little difference between using the normal distribution vs. the t-distribution:"
   ]
  },
  {
   "cell_type": "code",
   "execution_count": 10,
   "metadata": {
    "colab": {
     "base_uri": "https://localhost:8080/"
    },
    "id": "gtLRsodU1Icg",
    "outputId": "39f342a1-fc4e-4a20-a465-13992b614cff"
   },
   "outputs": [
    {
     "data": {
      "text/plain": [
       "np.float64(0.0023774765933946007)"
      ]
     },
     "execution_count": 10,
     "metadata": {},
     "output_type": "execute_result"
    }
   ],
   "source": [
    "# Check the difference between critical values with a sample size of 1000\n",
    "\n",
    "stats.t.ppf(q=0.975, df= 999) - stats.norm.ppf(0.975)"
   ]
  },
  {
   "cell_type": "markdown",
   "metadata": {
    "id": "FrIW5J_I1Icg"
   },
   "source": [
    "Instead of calculating a confidence interval for a mean point estimate by hand, you can calculate it using the Python function stats.t.interval():"
   ]
  },
  {
   "cell_type": "code",
   "execution_count": 11,
   "metadata": {
    "colab": {
     "base_uri": "https://localhost:8080/"
    },
    "id": "IT0D0VRm1Icg",
    "outputId": "0ce93b19-4915-4bf7-aad7-d56692c66bee"
   },
   "outputs": [
    {
     "data": {
      "text/plain": [
       "(np.float64(37.65147508161371), np.float64(48.108524918386294))"
      ]
     },
     "execution_count": 11,
     "metadata": {},
     "output_type": "execute_result"
    }
   ],
   "source": [
    "stats.t.interval(confidence = 0.95,              # Confidence level\n",
    "                 df= 24,                    # Degrees of freedom\n",
    "                 loc = sample_mean,         # Sample mean\n",
    "                 scale = sigma)             # Standard deviation estimate"
   ]
  },
  {
   "cell_type": "markdown",
   "metadata": {
    "id": "MDWgGXSzOAZy"
   },
   "source": [
    "**Calculating a Confidence Interval for a Population Proportion**"
   ]
  },
  {
   "cell_type": "markdown",
   "metadata": {
    "id": "fTkqPVfK1Icg"
   },
   "source": [
    "We can also make a confidence interval for a point estimate of a population proportion. In this case, the margin of error equals:\n",
    "\n",
    "`z*sqrt(p(1-p)/n)`\n",
    "\n",
    "Where z is the z-critical value for our confidence level, p is the point estimate of the population proportion and n is the sample size. Let's calculate a 95% confidence interval for Hispanics according to the sample proportion we calculated earlier (0.192):"
   ]
  },
  {
   "cell_type": "code",
   "execution_count": 12,
   "metadata": {
    "colab": {
     "base_uri": "https://localhost:8080/"
    },
    "id": "1A-wau2y1Icg",
    "outputId": "bdf7b9b7-060b-465e-9006-6ae2a3094b19"
   },
   "outputs": [
    {
     "data": {
      "text/plain": [
       "(np.float64(0.16758794241348748), np.float64(0.21641205758651252))"
      ]
     },
     "execution_count": 12,
     "metadata": {},
     "output_type": "execute_result"
    }
   ],
   "source": [
    "z_critical = stats.norm.ppf(0.975)      # Record z-critical value\n",
    "\n",
    "p = 0.192                               # Point estimate of proportion\n",
    "\n",
    "n = 1000                                # Sample size\n",
    "\n",
    "margin_of_error = z_critical * math.sqrt((p*(1-p))/n)\n",
    "\n",
    "confidence_interval = (p - margin_of_error,  # Calculate the the interval\n",
    "                       p + margin_of_error)\n",
    "\n",
    "confidence_interval"
   ]
  },
  {
   "cell_type": "markdown",
   "metadata": {
    "id": "xOf1b6431Ich"
   },
   "source": [
    "The output shows that the confidence interval captured the true population parameter of 0.2. Similar to our population mean point estimates, we can use the scipy stats.distribution.interval() function to calculate a confidence interval for a population proportion for us. In this case were working with z-critical values so we want to work with the normal distribution instead of the t distribution:"
   ]
  },
  {
   "cell_type": "code",
   "execution_count": 13,
   "metadata": {
    "colab": {
     "base_uri": "https://localhost:8080/"
    },
    "id": "icTEnu921Ich",
    "outputId": "d0a46745-3d13-4fcc-d6d3-86cbbc07c6f6"
   },
   "outputs": [
    {
     "data": {
      "text/plain": [
       "(np.float64(0.16758794241348748), np.float64(0.21641205758651252))"
      ]
     },
     "execution_count": 13,
     "metadata": {},
     "output_type": "execute_result"
    }
   ],
   "source": [
    "stats.norm.interval(confidence = 0.95,    # Confidence level\n",
    "                   loc =  0.192,     # Point estimate of proportion\n",
    "                   scale = math.sqrt((p*(1-p))/n))  # Scaling factor"
   ]
  }
 ],
 "metadata": {
  "colab": {
   "provenance": []
  },
  "kernelspec": {
   "display_name": ".venv",
   "language": "python",
   "name": "python3"
  },
  "language_info": {
   "codemirror_mode": {
    "name": "ipython",
    "version": 3
   },
   "file_extension": ".py",
   "mimetype": "text/x-python",
   "name": "python",
   "nbconvert_exporter": "python",
   "pygments_lexer": "ipython3",
   "version": "3.12.7"
  }
 },
 "nbformat": 4,
 "nbformat_minor": 0
}
