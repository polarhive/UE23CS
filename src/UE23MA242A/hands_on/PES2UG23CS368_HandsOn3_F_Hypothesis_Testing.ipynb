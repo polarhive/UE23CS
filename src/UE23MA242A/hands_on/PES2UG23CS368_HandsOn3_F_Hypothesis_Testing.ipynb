{
 "cells": [
  {
   "attachments": {},
   "cell_type": "markdown",
   "id": "5f7bcbfa-8e0d-4ea2-a2ae-23f1c9bd9dc4",
   "metadata": {},
   "source": [
    "# Hypothesis Testing\n",
    "\n",
    "Hypothesis testing is a statistical method used to make decisions about population parameters based on sample data. It involves assessing the validity of a hypothesis regarding a population mean, denoted as \\( \\mu \\). For example, the statement “\\( \\mu > 11 \\)” is a hypothesis about the population mean \\( \\mu \\). To determine how certain we can be that such a hypothesis is true, we must perform a hypothesis test.\n",
    "\n",
    "A hypothesis test produces a number between 0 and 1 that measures the degree of certainty we may have in the truth of a hypothesis about a quantity, such as a population mean. \n",
    "\n",
    "In most situations, the **null hypothesis (H₀)** states that the observed effect is due only to random variation between the sample and the population. In contrast, the **alternative hypothesis (H₁)** claims that the observed effect is real and accurately represents the whole population.\n",
    "\n",
    "## Types of Hypothesis Tests\n",
    "- **Z-Test**\n",
    "- **One-Sample T-Test**\n",
    "- **Two-Sample T-Test**\n",
    "- **Paired T-Test**\n",
    "\n",
    "The choice between a Z-test and a T-test primarily depends on two factors:\n",
    "\n",
    "1. **Sample Size**:\n",
    "   - **Z-Test**: Used when the sample size is large (usually \\( n >= 30 \\)).\n",
    "   - **T-Test**: More appropriate for small samples (typically \\( n < 30 \\)).\n",
    "\n",
    "2. **Population Standard Deviation**:\n",
    "   - **Z-Test**: Requires knowledge of the population standard deviation.\n",
    "   - **T-Test**: Used when the population standard deviation is unknown, which is common in real-world scenarios.\n",
    "---\n",
    "\n",
    "## Introduction to Hypothesis Testing\n",
    "\n",
    "In hypothesis testing, we start with two hypotheses:\n",
    "\n",
    "1. **Null Hypothesis (H₀)**: The statement representing no effect or no difference in the population.\n",
    "2. **Alternative Hypothesis (H₁)**: The statement we accept if the null hypothesis is rejected, indicating an effect or a difference.\n",
    "\n",
    "### Key Concepts\n",
    "\n",
    "- **Significance Level (α)**: The probability of rejecting the null hypothesis when it is actually true. Common values are **0.05** or **0.01**.\n",
    "- **P-Value**: measures the plausibility of H0.The smaller the P-value, the stronger the evidence is against H0\n",
    "- **Critical Value**: The value that the test statistic must exceed to reject the null hypothesis.\n",
    "\n",
    "### Steps to perform Hypothesis Testing\n",
    "\n",
    "1. **State the Hypotheses**: Define both the null and alternative hypotheses.\n",
    "2. **Select a Significance Level (α)**: Typically, we use a level of **0.05**.\n",
    "3. **Choose an Appropriate Test**: Select the test based on data characteristics and assumptions.\n",
    "4. **Calculate the Test Statistic**: Perform calculations based on the test chosen.\n",
    "5. **Determine the P-Value or Critical Value**: Compare against the significance level.\n",
    "6. **Make a Decision**: If the p-value is less than α, reject the null hypothesis.\n"
   ]
  },
  {
   "cell_type": "markdown",
   "id": "e88d55da-f7fd-4aee-a2f3-9715937b880a",
   "metadata": {},
   "source": [
    "### Z-Test\n",
    "A Z-test is typically used when the sample size is large and the population variance is known. It allows us to test if there is a significant difference between a sample statistic (like a mean) and a known population parameter.\n",
    "\n",
    "**Null Hypothesis (H₀)**: The sample mean is equal to the population mean (no difference).\n",
    "  \n",
    "**Alternative Hypothesis (H₁)**: The sample mean is significantly different from the population mean.\n"
   ]
  },
  {
   "cell_type": "code",
   "execution_count": 1,
   "id": "e66f8b38-c74c-4b34-b438-6bec9f2561b4",
   "metadata": {},
   "outputs": [],
   "source": [
    "# Dependencies\n",
    "import numpy as np\n",
    "import pandas as pd\n",
    "import scipy.stats as stats\n",
    "import matplotlib.pyplot as plt"
   ]
  },
  {
   "cell_type": "code",
   "execution_count": 2,
   "id": "6d626d22-ff7a-44a3-a54c-71cabba523e9",
   "metadata": {},
   "outputs": [],
   "source": [
    "# Population parameters\n",
    "population_mean = 100\n",
    "population_std_dev = 15"
   ]
  },
  {
   "cell_type": "code",
   "execution_count": 3,
   "id": "26e7411d-c60f-40a0-8e0a-6339d02af204",
   "metadata": {},
   "outputs": [
    {
     "data": {
      "text/plain": [
       "np.float64(102.10838908469648)"
      ]
     },
     "execution_count": 3,
     "metadata": {},
     "output_type": "execute_result"
    }
   ],
   "source": [
    "# Sample data (mean score of a small sample of students)\n",
    "np.random.seed(0)\n",
    "sample_data = np.random.normal(loc=population_mean, scale=population_std_dev, size=50)\n",
    "sample_mean = np.mean(sample_data)\n",
    "sample_mean"
   ]
  },
  {
   "cell_type": "code",
   "execution_count": 4,
   "id": "a0339717-326b-4452-a27e-afe74537a911",
   "metadata": {},
   "outputs": [
    {
     "name": "stdout",
     "output_type": "stream",
     "text": [
      "Z-Score: 0.9939041461123878\n",
      "P-Value: 0.32026953566597427\n"
     ]
    }
   ],
   "source": [
    "# Z-test calculation\n",
    "z_score = (sample_mean - population_mean) / (population_std_dev / np.sqrt(len(sample_data)))\n",
    "p_value = stats.norm.sf(abs(z_score)) * 2  # Two-tailed test\n",
    "print(\"Z-Score:\", z_score)\n",
    "print(\"P-Value:\", p_value)"
   ]
  },
  {
   "cell_type": "markdown",
   "id": "1962f72a-a09a-4cf2-b26d-bb3bae126869",
   "metadata": {},
   "source": [
    "Since the p-value (0.32) is greater than the significance level of 0.05, we fail to reject the null hypothesis. This result suggests that there is not enough evidence to conclude that the sample mean significantly differs from the population mean of 100 at a 95% confidence level."
   ]
  },
  {
   "cell_type": "markdown",
   "id": "df6a803d-2ae0-4765-a171-f8c731ea6752",
   "metadata": {},
   "source": [
    "### One-Sample T-Test\n",
    "A one-sample t-test is used when we have a sample mean and we want to test if it is different from a known or hypothesized population mean.\n",
    "\n",
    "Example: Testing Mean Age Difference\n",
    "\n",
    "Let's consider a population of voter ages and a smaller sample from Minnesota voters. We want to test if the average age in Minnesota differs from the population mean."
   ]
  },
  {
   "cell_type": "markdown",
   "id": "5f9d22c0-64d6-4a51-9bdd-8b737efcf3eb",
   "metadata": {},
   "source": [
    "\n",
    "To conduct the one-sample t-test, we use ` stats.ttest_1samp() `.\n",
    "\n",
    "- **Null Hypothesis (H₀)**: The mean age of Minnesota voters is equal to the national mean.\n",
    "\n",
    "- **Alternative Hypothesis (H₁)**:The mean age of Minnesota voters differs from the national mean."
   ]
  },
  {
   "cell_type": "code",
   "execution_count": 5,
   "id": "1089cc9c-32d2-415a-89b1-416fbe633583",
   "metadata": {},
   "outputs": [],
   "source": [
    "# Set random seed for reproducibility\n",
    "np.random.seed(6)\n"
   ]
  },
  {
   "cell_type": "code",
   "execution_count": 6,
   "id": "6ee84f92-592a-4aed-9c03-d141a616eb5f",
   "metadata": {},
   "outputs": [],
   "source": [
    "# Population data\n",
    "population_ages1 = stats.poisson.rvs(loc=18, mu=35, size=150000)\n",
    "population_ages2 = stats.poisson.rvs(loc=18, mu=10, size=100000)\n",
    "population_ages = np.concatenate((population_ages1, population_ages2))"
   ]
  },
  {
   "cell_type": "code",
   "execution_count": 7,
   "id": "713852dd-1438-474a-a89d-50c18d2ab9e0",
   "metadata": {},
   "outputs": [],
   "source": [
    "# Minnesota sample data\n",
    "minnesota_ages1 = stats.poisson.rvs(loc=18, mu=30, size=30)\n",
    "minnesota_ages2 = stats.poisson.rvs(loc=18, mu=10, size=20)\n",
    "minnesota_ages = np.concatenate((minnesota_ages1, minnesota_ages2))\n"
   ]
  },
  {
   "cell_type": "code",
   "execution_count": 8,
   "id": "4b0c75b1-00dd-4251-8b0e-484815e089e7",
   "metadata": {},
   "outputs": [
    {
     "name": "stdout",
     "output_type": "stream",
     "text": [
      "Population Mean Age: 43.000112\n",
      "Minnesota Sample Mean Age: 39.26\n"
     ]
    }
   ],
   "source": [
    "# Calculate means\n",
    "print(\"Population Mean Age:\", population_ages.mean())\n",
    "print(\"Minnesota Sample Mean Age:\", minnesota_ages.mean())"
   ]
  },
  {
   "cell_type": "code",
   "execution_count": 9,
   "id": "d57933f8-749c-46be-96b9-40ebe59ab33b",
   "metadata": {},
   "outputs": [
    {
     "name": "stdout",
     "output_type": "stream",
     "text": [
      "T-statistic: -2.5742714883655027\n",
      "P-value: 0.013118685425061678\n"
     ]
    }
   ],
   "source": [
    "# One-Sample T-Test\n",
    "t_stat, p_value = stats.ttest_1samp(a=minnesota_ages, popmean=population_ages.mean())\n",
    "print(\"T-statistic:\", t_stat)\n",
    "print(\"P-value:\", p_value)"
   ]
  },
  {
   "cell_type": "markdown",
   "id": "c6dff2a2-4e8d-4e13-859e-7263d725a4e6",
   "metadata": {},
   "source": [
    "The p-value is less than our chosen significance level (0.05), we reject the null hypothesis and conclude that the mean age of Minnesota voters is significantly different from the population mean."
   ]
  },
  {
   "cell_type": "markdown",
   "id": "105f4cd0-6790-446b-a816-7f51096fbbc7",
   "metadata": {},
   "source": [
    "## Two-Sample T-Test\n",
    "\n",
    "A two-sample t-test investigates whether the means of two independent samples differ significantly. This test is useful when comparing two distinct groups to see if there is a meaningful difference in their average values.\n",
    "\n",
    "- **Null Hypothesis (H₀)**: The means of both groups are the same.\n",
    "- **Alternative Hypothesis (H₁)**: The means of the two groups are different.\n",
    "\n",
    "Unlike the one-sample test, where we compare a sample mean against a known population mean, the two-sample t-test only involves sample means. Here, we'll use the `stats.ttest_ind()` function to conduct a two-sample t-test."
   ]
  },
  {
   "cell_type": "markdown",
   "id": "68d47c4b-b507-4765-9d04-0e15770cda19",
   "metadata": {},
   "source": [
    "Let's generate a sample of voter age data for Wisconsin and compare it against the Minnesota sample we created earlier.\n"
   ]
  },
  {
   "cell_type": "code",
   "execution_count": 10,
   "id": "1634b094-b252-4b79-8a56-44294069f7df",
   "metadata": {},
   "outputs": [
    {
     "name": "stdout",
     "output_type": "stream",
     "text": [
      "Wisconsin sample mean age: 42.8\n"
     ]
    }
   ],
   "source": [
    "# Setting a seed for reproducibility\n",
    "np.random.seed(12)\n",
    "\n",
    "# Generating voter age data for Wisconsin\n",
    "wisconsin_ages1 = stats.poisson.rvs(loc=18, mu=33, size=30)\n",
    "wisconsin_ages2 = stats.poisson.rvs(loc=18, mu=13, size=20)\n",
    "wisconsin_ages = np.concatenate((wisconsin_ages1, wisconsin_ages2))\n",
    "\n",
    "# Display the mean age for the Wisconsin sample\n",
    "print(\"Wisconsin sample mean age:\", wisconsin_ages.mean())"
   ]
  },
  {
   "cell_type": "code",
   "execution_count": 11,
   "id": "d866191c-342c-4cef-b5bc-beeaee9b707d",
   "metadata": {},
   "outputs": [
    {
     "name": "stdout",
     "output_type": "stream",
     "text": [
      "T-statistic: -1.7083870793286842\n",
      "P-value: 0.09073104343957748\n"
     ]
    }
   ],
   "source": [
    "# Performing the two-sample t-test\n",
    "result = stats.ttest_ind(a=minnesota_ages, b=wisconsin_ages, equal_var=False)\n",
    "print(\"T-statistic:\", result.statistic)\n",
    "print(\"P-value:\", result.pvalue)\n"
   ]
  },
  {
   "cell_type": "markdown",
   "id": "a596f53d-4c69-4f71-bd33-e5858fc1bb95",
   "metadata": {},
   "source": [
    "Here we would fail to reject the null hypothesis since the p-value (0.0907) is greater than 0.05.\n",
    "\n",
    "Conclusion: There is not enough evidence to conclude that the mean age of voters from Wisconsin and Minnesota is significantly different at a 5% significance level.\n"
   ]
  },
  {
   "cell_type": "markdown",
   "id": "d04e12fb-a708-4142-b7fa-217e6552f7ac",
   "metadata": {},
   "source": [
    "## Paired T-Test\n",
    "\n",
    "The basic two-sample t-test is designed for testing differences between independent groups. However, in some cases, you might be interested in testing differences within the same group over time. For instance, a hospital might want to test whether a weight-loss drug is effective by comparing patients' weights before and after treatment.\n",
    "\n",
    "The **Paired T-Test** is useful in this context, as it allows us to test whether the means of samples from the same group differ at two different points in time.\n",
    "\n",
    "- **Null Hypothesis (H₀)**: There is no difference in the mean values of the paired samples (e.g., weights before and after treatment).\n",
    "- **Alternative Hypothesis (H₁)**: There is a significant difference in the mean values of the paired samples.\n",
    "\n",
    "We can conduct a paired t-test using the `scipy.stats.ttest_rel()` function."
   ]
  },
  {
   "cell_type": "code",
   "execution_count": 12,
   "id": "9f2bbbd7-8957-47f4-8c2f-509391816e65",
   "metadata": {},
   "outputs": [],
   "source": [
    "# Setting a seed for reproducibility\n",
    "np.random.seed(11)\n",
    "\n",
    "# Generating weight data before and after treatment\n",
    "before = stats.norm.rvs(scale=30, loc=250, size=100)\n",
    "after = before + stats.norm.rvs(scale=5, loc=-1.25, size=100)"
   ]
  },
  {
   "cell_type": "code",
   "execution_count": 13,
   "id": "cef88a87-4756-4304-9693-575e05144d58",
   "metadata": {},
   "outputs": [],
   "source": [
    "# Creating a DataFrame to store and summarize data\n",
    "weight_df = pd.DataFrame({\n",
    "    \"weight_before\": before,\n",
    "    \"weight_after\": after,\n",
    "    \"weight_change\": after - before\n",
    "})"
   ]
  },
  {
   "cell_type": "code",
   "execution_count": 14,
   "id": "e59328e2-5e35-4fe3-b9d5-79f96a8a6634",
   "metadata": {},
   "outputs": [
    {
     "data": {
      "text/html": [
       "<div>\n",
       "<style scoped>\n",
       "    .dataframe tbody tr th:only-of-type {\n",
       "        vertical-align: middle;\n",
       "    }\n",
       "\n",
       "    .dataframe tbody tr th {\n",
       "        vertical-align: top;\n",
       "    }\n",
       "\n",
       "    .dataframe thead th {\n",
       "        text-align: right;\n",
       "    }\n",
       "</style>\n",
       "<table border=\"1\" class=\"dataframe\">\n",
       "  <thead>\n",
       "    <tr style=\"text-align: right;\">\n",
       "      <th></th>\n",
       "      <th>weight_before</th>\n",
       "      <th>weight_after</th>\n",
       "      <th>weight_change</th>\n",
       "    </tr>\n",
       "  </thead>\n",
       "  <tbody>\n",
       "    <tr>\n",
       "      <th>count</th>\n",
       "      <td>100.000000</td>\n",
       "      <td>100.000000</td>\n",
       "      <td>100.000000</td>\n",
       "    </tr>\n",
       "    <tr>\n",
       "      <th>mean</th>\n",
       "      <td>250.345546</td>\n",
       "      <td>249.115171</td>\n",
       "      <td>-1.230375</td>\n",
       "    </tr>\n",
       "    <tr>\n",
       "      <th>std</th>\n",
       "      <td>28.132539</td>\n",
       "      <td>28.422183</td>\n",
       "      <td>4.783696</td>\n",
       "    </tr>\n",
       "    <tr>\n",
       "      <th>min</th>\n",
       "      <td>170.400443</td>\n",
       "      <td>165.913930</td>\n",
       "      <td>-11.495286</td>\n",
       "    </tr>\n",
       "    <tr>\n",
       "      <th>25%</th>\n",
       "      <td>230.421042</td>\n",
       "      <td>229.148236</td>\n",
       "      <td>-4.046211</td>\n",
       "    </tr>\n",
       "    <tr>\n",
       "      <th>50%</th>\n",
       "      <td>250.830805</td>\n",
       "      <td>251.134089</td>\n",
       "      <td>-1.413463</td>\n",
       "    </tr>\n",
       "    <tr>\n",
       "      <th>75%</th>\n",
       "      <td>270.637145</td>\n",
       "      <td>268.927258</td>\n",
       "      <td>1.738673</td>\n",
       "    </tr>\n",
       "    <tr>\n",
       "      <th>max</th>\n",
       "      <td>314.700233</td>\n",
       "      <td>316.720357</td>\n",
       "      <td>9.759282</td>\n",
       "    </tr>\n",
       "  </tbody>\n",
       "</table>\n",
       "</div>"
      ],
      "text/plain": [
       "       weight_before  weight_after  weight_change\n",
       "count     100.000000    100.000000     100.000000\n",
       "mean      250.345546    249.115171      -1.230375\n",
       "std        28.132539     28.422183       4.783696\n",
       "min       170.400443    165.913930     -11.495286\n",
       "25%       230.421042    229.148236      -4.046211\n",
       "50%       250.830805    251.134089      -1.413463\n",
       "75%       270.637145    268.927258       1.738673\n",
       "max       314.700233    316.720357       9.759282"
      ]
     },
     "execution_count": 14,
     "metadata": {},
     "output_type": "execute_result"
    }
   ],
   "source": [
    "# Displaying a summary of the data\n",
    "weight_df.describe()"
   ]
  },
  {
   "cell_type": "code",
   "execution_count": 15,
   "id": "aafed4d2-ca53-41c7-818d-60a6b015be6f",
   "metadata": {},
   "outputs": [
    {
     "name": "stdout",
     "output_type": "stream",
     "text": [
      "T-statistic: 2.5720175998568284\n",
      "P-value: 0.011596444318439857\n"
     ]
    }
   ],
   "source": [
    "# Performing the paired t-test\n",
    "result = stats.ttest_rel(a=before, b=after)\n",
    "print(\"T-statistic:\", result.statistic)\n",
    "print(\"P-value:\", result.pvalue)\n"
   ]
  },
  {
   "cell_type": "markdown",
   "id": "091c50df-3c1b-4f71-8729-14ca09ec97b8",
   "metadata": {},
   "source": [
    "With a significance level of 0.05 (95% confidence level), we would reject the null hypothesis since the p-value (0.0116) is less than 0.05.\n",
    "\n",
    "Conclusion:The result suggests that there is a statistically significant difference in weight before and after the treatment, indicating that the treatment may be effective."
   ]
  }
 ],
 "metadata": {
  "kernelspec": {
   "display_name": ".venv",
   "language": "python",
   "name": "python3"
  },
  "language_info": {
   "codemirror_mode": {
    "name": "ipython",
    "version": 3
   },
   "file_extension": ".py",
   "mimetype": "text/x-python",
   "name": "python",
   "nbconvert_exporter": "python",
   "pygments_lexer": "ipython3",
   "version": "3.12.7"
  }
 },
 "nbformat": 4,
 "nbformat_minor": 5
}
