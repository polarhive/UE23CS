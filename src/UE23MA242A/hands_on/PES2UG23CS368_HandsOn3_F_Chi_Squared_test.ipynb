{
 "cells": [
  {
   "cell_type": "markdown",
   "id": "873e74cf-ef44-42c6-bacb-8e185dc2594d",
   "metadata": {},
   "source": [
    "# Chi-Square Test\n",
    "\n",
    "The Chi-Square test is used to measure:\n",
    "1. **Independence of two categorical variables**: to see if one variable affects the other.  \n",
    "   *Example*: Does the gender of a person determine the type of chocolate they prefer?\n",
    "   \n",
    "2. **Goodness of Fit**: to see if observed values match the expected distribution.\n",
    "\n",
    "The test statistic used is the **Chi-Square Statistic**.\n",
    "The formula is:\n",
    "\n",
    "$$\n",
    "X^2 = \\sum \\frac{(O_i - E_i)^2}{E_i}\n",
    "$$\n",
    "\n",
    "Where:\n",
    "- **\\( O_i \\)** and **\\( E_i \\)** are the observed and expected values for the \\( i \\)-th term.\n",
    "\n",
    "**Null Hypothesis (H₀)**: The categorical variables are independent (no association).\n",
    "\n",
    "**Decision Rule**:\n",
    "- If **p-value < significance level** → Reject \\( H_0 \\)\n",
    "- or if **\\( X^2 \\) value > critical value** → Reject \\( H_0 \\)\n",
    "\n",
    "Otherwise, we fail to reject \\( H_0 \\).\n"
   ]
  },
  {
   "cell_type": "code",
   "execution_count": 1,
   "id": "bbc70a96-aa3d-453a-afe2-039d40ecaef6",
   "metadata": {},
   "outputs": [],
   "source": [
    "# Import necessary libraries\n",
    "import numpy as np\n",
    "from scipy.stats import chisquare,chi2\n"
   ]
  },
  {
   "cell_type": "code",
   "execution_count": 2,
   "id": "8e9b2a72-8f77-4118-90bc-89e14755802b",
   "metadata": {},
   "outputs": [
    {
     "name": "stdout",
     "output_type": "stream",
     "text": [
      "Observed Frequencies: [115  97  91 101 110  86]\n",
      "Expected Frequencies (Fair Die): [100. 100. 100. 100. 100. 100.]\n"
     ]
    }
   ],
   "source": [
    "\n",
    "# Set significance level\n",
    "alpha = 0.10\n",
    "\n",
    "# Consider a die is thrown 600 times with following results.\n",
    "observed = np.array([115, 97, 91, 101, 110, 86])\n",
    "\n",
    "# Expected frequency for each face (if die is fair)\n",
    "total_rolls = 600\n",
    "num_faces = 6\n",
    "expected = np.full(num_faces, total_rolls / num_faces)\n",
    "\n",
    "# Degrees of freedom (k-1)\n",
    "dof = num_faces - 1\n",
    "\n",
    "print(\"Observed Frequencies:\", observed)\n",
    "print(\"Expected Frequencies (Fair Die):\", expected)\n",
    "\n",
    "# Calculate the critical value\n",
    "critical_value = chi2.ppf(1 - alpha, dof)\n"
   ]
  },
  {
   "cell_type": "code",
   "execution_count": 3,
   "id": "8a3d7455-7352-496b-9055-8d5125418c6b",
   "metadata": {},
   "outputs": [
    {
     "name": "stdout",
     "output_type": "stream",
     "text": [
      "\n",
      "Chi-Square Statistic: 6.12\n",
      "Critical Value at 10.0% significance level with 5 dof: 9.236356899781123\n"
     ]
    }
   ],
   "source": [
    "# Perform Chi-Square Goodness of Fit Test\n",
    "chi2_stat, p_val = chisquare(f_obs=observed, f_exp=expected)\n",
    "\n",
    "print(\"\\nChi-Square Statistic:\", chi2_stat)\n",
    "print(f\"Critical Value at {alpha*100}% significance level with {dof} dof:\", critical_value)\n",
    "\n"
   ]
  },
  {
   "cell_type": "code",
   "execution_count": 4,
   "id": "2e5f103f-2a14-4586-8dfb-4b3d62ec9369",
   "metadata": {},
   "outputs": [
    {
     "name": "stdout",
     "output_type": "stream",
     "text": [
      "\n",
      "Since Chi-Square Statistic (6.12) < Critical Value (9.236356899781123), we fail to reject the null hypothesis.\n",
      "Conclusion: The die appears to be fair (unbiased) at the 10% significance level.\n"
     ]
    }
   ],
   "source": [
    "# Decision based on critical value comparison\n",
    "if chi2_stat < critical_value:\n",
    "    print(f\"\\nSince Chi-Square Statistic ({chi2_stat}) < Critical Value ({critical_value}), we fail to reject the null hypothesis.\")\n",
    "    print(\"Conclusion: The die appears to be fair (unbiased) at the 10% significance level.\")\n",
    "else:\n",
    "    print(f\"\\nSince Chi-Square Statistic ({chi2_stat}) > Critical Value ({critical_value}), we reject the null hypothesis.\")\n",
    "    print(\"Conclusion: The die may be biased.\")\n"
   ]
  },
  {
   "cell_type": "markdown",
   "id": "745342b5-0eaf-42f8-b000-1e1cac1a2f32",
   "metadata": {},
   "source": [
    "Since X2(6.12)<Critical value(9.24) we fail to reject null hypothesis and conclude die is fair(unbiased) at 10% significance level."
   ]
  },
  {
   "cell_type": "markdown",
   "id": "cb0b1cae-182c-4e45-8011-37fbe7776dd3",
   "metadata": {},
   "source": [
    "### Comparing with p value"
   ]
  },
  {
   "cell_type": "code",
   "execution_count": 5,
   "id": "a0ddd1ee-19b5-4393-bf13-c54f43d08ce0",
   "metadata": {},
   "outputs": [
    {
     "name": "stdout",
     "output_type": "stream",
     "text": [
      "p-value: 0.29471693654506914\n"
     ]
    }
   ],
   "source": [
    "chi2_stat, p_val = chisquare(f_obs=observed, f_exp=expected)\n",
    "print(\"p-value:\",p_val)"
   ]
  },
  {
   "cell_type": "markdown",
   "id": "3c248f47-c824-4e47-9ed8-724892d4c4d1",
   "metadata": {},
   "source": [
    "As we can see 0.29(p-val)>0.10(significance level)  we fail to reject the null hypothesis and the same conclusion follows."
   ]
  },
  {
   "cell_type": "markdown",
   "id": "8ae1534d-c38d-47b9-8031-dd259962b1ee",
   "metadata": {},
   "source": [
    "# The Chi-Square Test for Homogeneity\n",
    "\n",
    "The Chi-Square Test for Homogeneity is used to determine if different populations have the same distribution of a categorical variable. In this case, we want to test the null hypothesis that the proportions of pins that are categorized as \"too thin,\" \"OK,\" or \"too thick\" are the same across multiple machines.\n",
    "\n",
    "## Steps to Perform the Chi-Square Test for Homogeneity\n",
    "\n",
    "### 1. State the Hypotheses\n",
    "\n",
    "- **Null Hypothesis (H₀)**: The proportions of pins that are too thin, OK, or too thick are the same for all machines.\n",
    "- **Alternative Hypothesis (H₁)**: The proportions of pins that are too thin, OK, or too thick are not the same for all machines.\n",
    "\n",
    "### 2. Data Collection\n",
    "\n",
    "Collect the counts of pins from each machine for each category. For illustration, let’s assume the following data:\n",
    "\n",
    "| Machine   | Too Thin | OK | Too Thick |\n",
    "|-----------|----------|----|-----------|\n",
    "| Machine 1 | 30       | 50 | 20        |\n",
    "| Machine 2 | 40       | 60 | 10        |\n",
    "| Machine 3 | 20       | 40 | 30        |\n",
    "\n",
    "### 3. Create the Contingency Table\n",
    "\n",
    "The data is arranged in a contingency table format to perform the Chi-Square test.\n",
    "\n",
    "### 4. Perform the Chi-Square Test\n",
    "\n",
    "Using Python, the Chi-Square test can be performed using the `scipy.stats.chi2_contingency` function.\n",
    "\n"
   ]
  },
  {
   "cell_type": "code",
   "execution_count": 6,
   "id": "ff4996a5-5b8b-4cb5-993b-bb3cb43bcfe5",
   "metadata": {},
   "outputs": [
    {
     "name": "stdout",
     "output_type": "stream",
     "text": [
      "Chi-Square Statistic: 18.855218855218855\n",
      "P-Value: 0.0008391237323066545\n",
      "Degrees of Freedom: 4\n",
      "Expected Frequencies:\n",
      "[[30. 50. 20.]\n",
      " [33. 55. 22.]\n",
      " [27. 45. 18.]]\n",
      "Reject the null hypothesis: Proportions are not the same across machines.\n"
     ]
    }
   ],
   "source": [
    "\n",
    "import numpy as np\n",
    "from scipy import stats\n",
    "\n",
    "# Sample data: counts of pins for each machine and category\n",
    "data = np.array([[30, 50, 20],   # Machine 1\n",
    "                 [40, 60, 10],   # Machine 2\n",
    "                 [20, 40, 30]])  # Machine 3\n",
    "\n",
    "# Perform Chi-Square Test\n",
    "chi2_stat, p_value, dof, expected = stats.chi2_contingency(data)\n",
    "\n",
    "# Output the results\n",
    "print(f\"Chi-Square Statistic: {chi2_stat}\")\n",
    "print(f\"P-Value: {p_value}\")\n",
    "print(f\"Degrees of Freedom: {dof}\")\n",
    "print(f\"Expected Frequencies:\\n{expected}\")\n",
    "\n",
    "# Determine the conclusion\n",
    "alpha = 0.05\n",
    "if p_value < alpha:\n",
    "    print(\"Reject the null hypothesis: Proportions are not the same across machines.\")\n",
    "else:\n",
    "    print(\"Fail to reject the null hypothesis: Proportions are the same across machines.\")\n"
   ]
  }
 ],
 "metadata": {
  "kernelspec": {
   "display_name": ".venv",
   "language": "python",
   "name": "python3"
  },
  "language_info": {
   "codemirror_mode": {
    "name": "ipython",
    "version": 3
   },
   "file_extension": ".py",
   "mimetype": "text/x-python",
   "name": "python",
   "nbconvert_exporter": "python",
   "pygments_lexer": "ipython3",
   "version": "3.12.7"
  }
 },
 "nbformat": 4,
 "nbformat_minor": 5
}
