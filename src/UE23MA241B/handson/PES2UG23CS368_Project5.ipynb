{
 "cells": [
  {
   "cell_type": "markdown",
   "metadata": {},
   "source": [
    "# Project 5: Systems of Linear Equations and College Football Team Ranking"
   ]
  },
  {
   "cell_type": "code",
   "execution_count": 1,
   "metadata": {},
   "outputs": [],
   "source": [
    "import numpy as np\n",
    "import scipy"
   ]
  },
  {
   "cell_type": "code",
   "execution_count": 2,
   "metadata": {},
   "outputs": [
    {
     "name": "stdout",
     "output_type": "stream",
     "text": [
      "Scores array shape: (10, 10)\n",
      "Scores array:\n",
      " [[ 0  1  1 -1 -1  1 -1 -1 -1 -1]\n",
      " [-1  0  1 -1 -1 -1 -1 -1  1 -1]\n",
      " [-1 -1  0 -1 -1 -1 -1  1 -1 -1]\n",
      " [ 1  1  1  0 -1 -1  1  1  1 -1]\n",
      " [ 1  1  1  1  0  1  1  1  1  1]\n",
      " [-1  1  1  1 -1  0  1  1  1  1]\n",
      " [ 1  1  1 -1 -1 -1  0  1 -1 -1]\n",
      " [ 1  1 -1 -1 -1 -1 -1  0  1 -1]\n",
      " [ 1 -1  1 -1 -1 -1  1 -1  0 -1]\n",
      " [ 1  1  1  1 -1 -1  1  1 -1  0]]\n"
     ]
    }
   ],
   "source": [
    "mat_data = scipy.io.loadmat(\"scores.mat\")\n",
    "\n",
    "# Extract the Scores array\n",
    "if \"Scores\" in mat_data:\n",
    "    scores = mat_data[\"Scores\"]\n",
    "    print(\"Scores array shape:\", scores.shape)\n",
    "    print(\"Scores array:\\n\", scores)\n",
    "else:\n",
    "    raise ValueError(\"The 'Scores' variable was not found in the .mat file.\")"
   ]
  },
  {
   "cell_type": "code",
   "execution_count": 3,
   "metadata": {},
   "outputs": [],
   "source": [
    "# Define the system of equations\n",
    "n = scores.shape[0]  # Number of teams\n",
    "A = np.zeros((n, n))  # Coefficient matrix\n",
    "b = np.zeros(n)  # Right-hand side vector\n",
    "\n",
    "# Populate A and b based on the Scores array\n",
    "for i in range(n):\n",
    "    for j in range(n):\n",
    "        if i != j:\n",
    "            if scores[i, j] == 1:  # Team i beat Team j\n",
    "                A[i, i] += 1\n",
    "                A[i, j] -= 1\n",
    "                b[i] += 1  # Team i gains a point\n",
    "            elif scores[i, j] == -1:  # Team j beat Team i\n",
    "                A[i, i] += 1\n",
    "                A[i, j] -= 1\n",
    "                b[i] -= 1  # Team i loses a point\n",
    "\n",
    "# Add a constraint to ensure a unique solution (e.g., sum of rankings = 0)\n",
    "A = np.vstack([A, np.ones(n)])  # Add a row for the constraint\n",
    "b = np.append(b, 0)  # Add the corresponding value to b"
   ]
  },
  {
   "cell_type": "code",
   "execution_count": 4,
   "metadata": {},
   "outputs": [],
   "source": [
    "# Gaussian Elimination\n",
    "def gaussian_elimination(A, b):\n",
    "    n = A.shape[0]  # Number of rows in the augmented matrix\n",
    "    m = A.shape[1]  # Number of columns in the augmented matrix\n",
    "    A = np.copy(A)  # Avoid modifying the original matrix\n",
    "    b = np.copy(b)  # Avoid modifying the original vector\n",
    "\n",
    "    for i in range(m):  # Iterate over columns (variables)\n",
    "        # Partial pivoting\n",
    "        max_row = max(range(i, n), key=lambda r: abs(A[r, i]))\n",
    "        if abs(A[max_row, i]) < 1e-10:  # Check if the pivot is close to zero\n",
    "            raise ValueError(\n",
    "                \"Matrix is singular or nearly singular. No unique solution exists.\"\n",
    "            )\n",
    "\n",
    "        # Swap rows if necessary\n",
    "        if i != max_row:\n",
    "            A[[i, max_row]] = A[[max_row, i]]  # Swap rows in A\n",
    "            b[[i, max_row]] = b[[max_row, i]]  # Swap elements in b\n",
    "\n",
    "        # Forward elimination\n",
    "        for j in range(i + 1, n):\n",
    "            factor = A[j, i] / A[i, i]\n",
    "            A[j] -= factor * A[i]\n",
    "            b[j] -= factor * b[i]\n",
    "\n",
    "    # Back substitution\n",
    "    x = np.zeros(m)\n",
    "    for i in range(m - 1, -1, -1):\n",
    "        x[i] = (b[i] - np.dot(A[i, i + 1 :], x[i + 1 :])) / A[i, i]\n",
    "\n",
    "    return x"
   ]
  },
  {
   "cell_type": "code",
   "execution_count": 5,
   "metadata": {},
   "outputs": [],
   "source": [
    "# Solve for rankings\n",
    "try:\n",
    "    rankings = gaussian_elimination(A.astype(float), b.astype(float))\n",
    "except ValueError as e:\n",
    "    print(e)\n",
    "    exit()\n",
    "\n",
    "# Normalize rankings to ensure positive values\n",
    "rankings = rankings - np.min(rankings) + 1"
   ]
  },
  {
   "cell_type": "code",
   "execution_count": 6,
   "metadata": {},
   "outputs": [
    {
     "name": "stdout",
     "output_type": "stream",
     "text": [
      "College Football Team Rankings:\n",
      "1. Team E\n",
      "2. Team F\n",
      "3. Team D\n",
      "4. Team J\n",
      "5. Team G\n",
      "6. Team I\n",
      "7. Team H\n",
      "8. Team A\n",
      "9. Team B\n",
      "10. Team C\n"
     ]
    }
   ],
   "source": [
    "# Team names (example placeholder names)\n",
    "teams = [\n",
    "    \"Team A\",\n",
    "    \"Team B\",\n",
    "    \"Team C\",\n",
    "    \"Team D\",\n",
    "    \"Team E\",\n",
    "    \"Team F\",\n",
    "    \"Team G\",\n",
    "    \"Team H\",\n",
    "    \"Team I\",\n",
    "    \"Team J\",\n",
    "]\n",
    "\n",
    "# Sort teams based on rankings\n",
    "sorted_teams = sorted(zip(teams, rankings), key=lambda x: x[1], reverse=True)\n",
    "\n",
    "# Display rankings\n",
    "print(\"College Football Team Rankings:\")\n",
    "for rank, (team, score) in enumerate(sorted_teams, start=1):\n",
    "    print(f\"{rank}. {team}\")"
   ]
  }
 ],
 "metadata": {
  "kernelspec": {
   "display_name": ".venv",
   "language": "python",
   "name": "python3"
  },
  "language_info": {
   "codemirror_mode": {
    "name": "ipython",
    "version": 3
   },
   "file_extension": ".py",
   "mimetype": "text/x-python",
   "name": "python",
   "nbconvert_exporter": "python",
   "pygments_lexer": "ipython3",
   "version": "3.13.2"
  }
 },
 "nbformat": 4,
 "nbformat_minor": 2
}
