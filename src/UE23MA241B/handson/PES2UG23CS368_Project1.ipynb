{
  "cells": [
    {
      "cell_type": "markdown",
      "metadata": {},
      "source": [
        "# Project 1: Basic operations with matrices in Python"
      ]
    },
    {
      "cell_type": "code",
      "execution_count": 1,
      "metadata": {},
      "outputs": [],
      "source": [
        "# import libs\n",
        "import numpy as np"
      ]
    },
    {
      "cell_type": "code",
      "execution_count": 2,
      "metadata": {},
      "outputs": [
        {
          "name": "stdout",
          "output_type": "stream",
          "text": [
            "Length of A (number of rows): 3\n",
            "Length of B: 3\n"
          ]
        }
      ],
      "source": [
        "# 1. Determine the length of a matrix or vector.\n",
        "A = np.array([[1, 2, 3], [4, 5, 6], [7, 8, 9]])\n",
        "B = np.array([10, 11, 12])\n",
        "print(\"Length of A (number of rows):\", A.shape[0])\n",
        "print(\"Length of B:\", len(B))"
      ]
    },
    {
      "cell_type": "code",
      "execution_count": 3,
      "metadata": {},
      "outputs": [
        {
          "name": "stdout",
          "output_type": "stream",
          "text": [
            "Matrix C (A with B as 4th row):\n",
            " [[ 1  2  3]\n",
            " [ 4  5  6]\n",
            " [ 7  8  9]\n",
            " [10 11 12]]\n"
          ]
        }
      ],
      "source": [
        "# 2. Add B as the fourth row of A to create C.\n",
        "C = np.vstack([A, B])  # Add B as a row to A\n",
        "print(\"Matrix C (A with B as 4th row):\\n\", C)"
      ]
    },
    {
      "cell_type": "code",
      "execution_count": 4,
      "metadata": {},
      "outputs": [
        {
          "name": "stdout",
          "output_type": "stream",
          "text": [
            "Matrix D (rows 2, 3, 4 and columns 3, 4 of C):\n",
            " [[ 6]\n",
            " [ 9]\n",
            " [12]]\n"
          ]
        }
      ],
      "source": [
        "# 3. Create D from rows 2, 3, 4 and columns 3, 4 of C.\n",
        "# Remember Python indexing starts from 0, so rows 2, 3, 4 are C[1:4] and columns 3, 4 are C[:, 2:4]\n",
        "D = C[1:4, 2:4]\n",
        "print(\"Matrix D (rows 2, 3, 4 and columns 3, 4 of C):\\n\", D)"
      ]
    },
    {
      "cell_type": "code",
      "execution_count": 5,
      "metadata": {},
      "outputs": [
        {
          "name": "stdout",
          "output_type": "stream",
          "text": [
            "Matrix E (Transpose of D):\n",
            " [[ 6  9 12]]\n"
          ]
        }
      ],
      "source": [
        "# 4. Transpose D to create E.\n",
        "E = D.T  # Transposing the matrix\n",
        "print(\"Matrix E (Transpose of D):\\n\", E)"
      ]
    },
    {
      "cell_type": "code",
      "execution_count": 6,
      "metadata": {},
      "outputs": [
        {
          "name": "stdout",
          "output_type": "stream",
          "text": [
            "Size of E: (1, 3)\n"
          ]
        }
      ],
      "source": [
        "# 5. Check the size of E.\n",
        "print(\"Size of E:\", E.shape)"
      ]
    },
    {
      "cell_type": "code",
      "execution_count": 7,
      "metadata": {},
      "outputs": [
        {
          "name": "stdout",
          "output_type": "stream",
          "text": [
            "Equally spaced vector: [ 0.   2.5  5.   7.5 10. ]\n"
          ]
        }
      ],
      "source": [
        "# 6. Create equally spaced vectors.\n",
        "vector1 = np.linspace(\n",
        "    0, 10, 5\n",
        ")  # Create a vector of 5 equally spaced values from 0 to 10\n",
        "print(\"Equally spaced vector:\", vector1)"
      ]
    },
    {
      "cell_type": "code",
      "execution_count": 8,
      "metadata": {},
      "outputs": [
        {
          "name": "stdout",
          "output_type": "stream",
          "text": [
            "Max in each column of A: [7 8 9]\n",
            "Min in each column of A: [1 2 3]\n"
          ]
        }
      ],
      "source": [
        "# 7. Find the max and min in each column of A.\n",
        "print(\"Max in each column of A:\", np.max(A, axis=0))\n",
        "print(\"Min in each column of A:\", np.min(A, axis=0))"
      ]
    },
    {
      "cell_type": "code",
      "execution_count": 9,
      "metadata": {},
      "outputs": [
        {
          "name": "stdout",
          "output_type": "stream",
          "text": [
            "Max in each row of A: [3 6 9]\n",
            "Min in each row of A: [1 4 7]\n"
          ]
        }
      ],
      "source": [
        "# 8. Find the max and min in each row of A.\n",
        "print(\"Max in each row of A:\", np.max(A, axis=1))\n",
        "print(\"Min in each row of A:\", np.min(A, axis=1))"
      ]
    },
    {
      "cell_type": "code",
      "execution_count": 10,
      "metadata": {},
      "outputs": [
        {
          "name": "stdout",
          "output_type": "stream",
          "text": [
            "Mean in each column of A: [4. 5. 6.]\n",
            "Sum in each column of A: [12 15 18]\n",
            "Mean in each row of A: [2. 5. 8.]\n",
            "Sum in each row of A: [ 6 15 24]\n"
          ]
        }
      ],
      "source": [
        "# 9. Calculate mean and sum in each column and row of A.\n",
        "print(\"Mean in each column of A:\", np.mean(A, axis=0))\n",
        "print(\"Sum in each column of A:\", np.sum(A, axis=0))\n",
        "print(\"Mean in each row of A:\", np.mean(A, axis=1))\n",
        "print(\"Sum in each row of A:\", np.sum(A, axis=1))"
      ]
    },
    {
      "cell_type": "code",
      "execution_count": 11,
      "metadata": {},
      "outputs": [
        {
          "name": "stdout",
          "output_type": "stream",
          "text": [
            "Matrix F:\n",
            " [[7 3 6]\n",
            " [6 5 3]\n",
            " [2 1 1]]\n",
            "Matrix G:\n",
            " [[5 3 2]\n",
            " [3 3 3]\n",
            " [3 5 9]]\n"
          ]
        }
      ],
      "source": [
        "# 10. Create random matrices F and G.\n",
        "F = np.random.randint(1, 10, (3, 3))  # Random integer matrix of size 3x3\n",
        "G = np.random.randint(1, 10, (3, 3))  # Another random matrix of size 3x3\n",
        "print(\"Matrix F:\\n\", F)\n",
        "print(\"Matrix G:\\n\", G)"
      ]
    },
    {
      "cell_type": "code",
      "execution_count": 12,
      "metadata": {},
      "outputs": [
        {
          "name": "stdout",
          "output_type": "stream",
          "text": [
            "Scalar multiplication (F * 2):\n",
            " [[14  6 12]\n",
            " [12 10  6]\n",
            " [ 4  2  2]]\n",
            "Addition (F + G):\n",
            " [[12  6  8]\n",
            " [ 9  8  6]\n",
            " [ 5  6 10]]\n",
            "Subtraction (F - G):\n",
            " [[ 2  0  4]\n",
            " [ 3  2  0]\n",
            " [-1 -4 -8]]\n",
            "Element-wise multiplication (F * G):\n",
            " [[35  9 12]\n",
            " [18 15  9]\n",
            " [ 6  5  9]]\n"
          ]
        }
      ],
      "source": [
        "# 11. Perform scalar multiplication, addition, subtraction, and element-wise multiplication.\n",
        "k = 2\n",
        "print(\"Scalar multiplication (F * 2):\\n\", k * F)\n",
        "print(\"Addition (F + G):\\n\", F + G)\n",
        "print(\"Subtraction (F - G):\\n\", F - G)\n",
        "print(\"Element-wise multiplication (F * G):\\n\", np.multiply(F, G))"
      ]
    },
    {
      "cell_type": "code",
      "execution_count": 13,
      "metadata": {},
      "outputs": [
        {
          "name": "stdout",
          "output_type": "stream",
          "text": [
            "Size of F: (3, 3) Size of A: (3, 3)\n",
            "Matrix multiplication of F and A:\n",
            " [[61 77 93]\n",
            " [47 61 75]\n",
            " [13 17 21]]\n"
          ]
        }
      ],
      "source": [
        "# 12. Check the size of F and A, then perform matrix multiplication if dimensions are compatible.\n",
        "print(\"Size of F:\", F.shape, \"Size of A:\", A.shape)\n",
        "if (\n",
        "    F.shape[1] == A.shape[0]\n",
        "):  # Matrix multiplication is possible if cols of F = rows of A\n",
        "    print(\"Matrix multiplication of F and A:\\n\", np.dot(F, A))\n",
        "else:\n",
        "    print(\"Matrix multiplication not possible due to incompatible dimensions.\")"
      ]
    },
    {
      "cell_type": "code",
      "execution_count": 14,
      "metadata": {},
      "outputs": [
        {
          "name": "stdout",
          "output_type": "stream",
          "text": [
            "Identity matrix:\n",
            " [[1. 0. 0.]\n",
            " [0. 1. 0.]\n",
            " [0. 0. 1.]]\n",
            "Zero matrix:\n",
            " [[0. 0. 0.]\n",
            " [0. 0. 0.]\n",
            " [0. 0. 0.]\n",
            " [0. 0. 0.]\n",
            " [0. 0. 0.]]\n",
            "One matrix:\n",
            " [[1. 1.]\n",
            " [1. 1.]\n",
            " [1. 1.]\n",
            " [1. 1.]]\n",
            "Diagonal matrix S:\n",
            " [[1 0 0]\n",
            " [0 2 0]\n",
            " [0 0 7]]\n",
            "Random 6x6 Matrix:\n",
            " [[1 5 3 2 3 4]\n",
            " [1 1 7 8 4 9]\n",
            " [3 4 3 5 1 1]\n",
            " [6 9 1 9 3 5]\n",
            " [6 7 9 6 3 5]\n",
            " [4 7 8 5 6 7]]\n",
            "Extracted diagonal elements: [1 1 3 9 3 7]\n",
            "Sparse diagonal matrix converted to dense:\n",
            " [[1 0 0]\n",
            " [0 2 0]\n",
            " [0 0 7]]\n"
          ]
        }
      ],
      "source": [
        "# 13. Generate the following special matrices:\n",
        "I = np.eye(3)  # Identity matrix of size 3x3\n",
        "print(\"Identity matrix:\\n\", I)\n",
        "\n",
        "Z = np.zeros((5, 3))  # Zero matrix of size 5x3\n",
        "O = np.ones((4, 2))  # One matrix of size 4x2\n",
        "print(\"Zero matrix:\\n\", Z)\n",
        "print(\"One matrix:\\n\", O)\n",
        "\n",
        "S = np.diag([1, 2, 7])  # Diagonal matrix with specified diagonal elements\n",
        "print(\"Diagonal matrix S:\\n\", S)\n",
        "\n",
        "# Extract diagonal elements from a random 6x6 matrix.\n",
        "random_matrix = np.random.randint(1, 10, (6, 6))  # Random 6x6 matrix\n",
        "diag_elements = np.diag(random_matrix)  # Extract diagonal elements\n",
        "print(\"Random 6x6 Matrix:\\n\", random_matrix)\n",
        "print(\"Extracted diagonal elements:\", diag_elements)\n",
        "\n",
        "# Create a sparse diagonal matrix and convert it to a dense matrix.\n",
        "sparse_diag = np.diag([1, 2, 7])  # Sparse diagonal matrix\n",
        "dense_matrix = np.array(sparse_diag)  # Convert to dense matrix\n",
        "print(\"Sparse diagonal matrix converted to dense:\\n\", dense_matrix)"
      ]
    }
  ],
  "metadata": {
    "colab": {
      "provenance": [],
      "toc_visible": true
    },
    "kernelspec": {
      "display_name": ".venv",
      "language": "python",
      "name": "python3"
    },
    "language_info": {
      "codemirror_mode": {
        "name": "ipython",
        "version": 3
      },
      "file_extension": ".py",
      "mimetype": "text/x-python",
      "name": "python",
      "nbconvert_exporter": "python",
      "pygments_lexer": "ipython3",
      "version": "3.13.2"
    }
  },
  "nbformat": 4,
  "nbformat_minor": 0
}
