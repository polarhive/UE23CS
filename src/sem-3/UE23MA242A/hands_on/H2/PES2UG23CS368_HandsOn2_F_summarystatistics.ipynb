{
  "cells": [
    {
      "cell_type": "code",
      "execution_count": 1,
      "metadata": {
        "collapsed": true,
        "id": "U37zNmilTb5V"
      },
      "outputs": [],
      "source": [
        "import pandas as pd\n",
        "import statistics as st\n",
        "\n",
        "df = pd.read_csv(\"train.csv\")"
      ]
    },
    {
      "cell_type": "code",
      "execution_count": 2,
      "metadata": {
        "colab": {
          "base_uri": "https://localhost:8080/",
          "height": 461
        },
        "id": "-BSlh2eSTb5W",
        "outputId": "9e2f00d3-4c36-41d0-fa83-8c2a7b9d58e2"
      },
      "outputs": [
        {
          "data": {
            "text/html": [
              "<div>\n",
              "<style scoped>\n",
              "    .dataframe tbody tr th:only-of-type {\n",
              "        vertical-align: middle;\n",
              "    }\n",
              "\n",
              "    .dataframe tbody tr th {\n",
              "        vertical-align: top;\n",
              "    }\n",
              "\n",
              "    .dataframe thead th {\n",
              "        text-align: right;\n",
              "    }\n",
              "</style>\n",
              "<table border=\"1\" class=\"dataframe\">\n",
              "  <thead>\n",
              "    <tr style=\"text-align: right;\">\n",
              "      <th></th>\n",
              "      <th>Loan_ID</th>\n",
              "      <th>Gender</th>\n",
              "      <th>Married</th>\n",
              "      <th>Dependents</th>\n",
              "      <th>Education</th>\n",
              "      <th>Self_Employed</th>\n",
              "      <th>ApplicantIncome</th>\n",
              "      <th>CoapplicantIncome</th>\n",
              "      <th>LoanAmount</th>\n",
              "      <th>Loan_Amount_Term</th>\n",
              "      <th>Credit_History</th>\n",
              "      <th>Property_Area</th>\n",
              "      <th>Loan_Status</th>\n",
              "    </tr>\n",
              "  </thead>\n",
              "  <tbody>\n",
              "    <tr>\n",
              "      <th>0</th>\n",
              "      <td>LP001002</td>\n",
              "      <td>Male</td>\n",
              "      <td>No</td>\n",
              "      <td>0</td>\n",
              "      <td>Graduate</td>\n",
              "      <td>No</td>\n",
              "      <td>5849</td>\n",
              "      <td>0.0</td>\n",
              "      <td>NaN</td>\n",
              "      <td>360.0</td>\n",
              "      <td>1.0</td>\n",
              "      <td>Urban</td>\n",
              "      <td>Y</td>\n",
              "    </tr>\n",
              "    <tr>\n",
              "      <th>1</th>\n",
              "      <td>LP001003</td>\n",
              "      <td>Male</td>\n",
              "      <td>Yes</td>\n",
              "      <td>1</td>\n",
              "      <td>Graduate</td>\n",
              "      <td>No</td>\n",
              "      <td>4583</td>\n",
              "      <td>1508.0</td>\n",
              "      <td>128.0</td>\n",
              "      <td>360.0</td>\n",
              "      <td>1.0</td>\n",
              "      <td>Rural</td>\n",
              "      <td>N</td>\n",
              "    </tr>\n",
              "    <tr>\n",
              "      <th>2</th>\n",
              "      <td>LP001005</td>\n",
              "      <td>Male</td>\n",
              "      <td>Yes</td>\n",
              "      <td>0</td>\n",
              "      <td>Graduate</td>\n",
              "      <td>Yes</td>\n",
              "      <td>3000</td>\n",
              "      <td>0.0</td>\n",
              "      <td>66.0</td>\n",
              "      <td>360.0</td>\n",
              "      <td>1.0</td>\n",
              "      <td>Urban</td>\n",
              "      <td>Y</td>\n",
              "    </tr>\n",
              "    <tr>\n",
              "      <th>3</th>\n",
              "      <td>LP001006</td>\n",
              "      <td>Male</td>\n",
              "      <td>Yes</td>\n",
              "      <td>0</td>\n",
              "      <td>Not Graduate</td>\n",
              "      <td>No</td>\n",
              "      <td>2583</td>\n",
              "      <td>2358.0</td>\n",
              "      <td>120.0</td>\n",
              "      <td>360.0</td>\n",
              "      <td>1.0</td>\n",
              "      <td>Urban</td>\n",
              "      <td>Y</td>\n",
              "    </tr>\n",
              "    <tr>\n",
              "      <th>4</th>\n",
              "      <td>LP001008</td>\n",
              "      <td>Male</td>\n",
              "      <td>No</td>\n",
              "      <td>0</td>\n",
              "      <td>Graduate</td>\n",
              "      <td>No</td>\n",
              "      <td>6000</td>\n",
              "      <td>0.0</td>\n",
              "      <td>141.0</td>\n",
              "      <td>360.0</td>\n",
              "      <td>1.0</td>\n",
              "      <td>Urban</td>\n",
              "      <td>Y</td>\n",
              "    </tr>\n",
              "    <tr>\n",
              "      <th>...</th>\n",
              "      <td>...</td>\n",
              "      <td>...</td>\n",
              "      <td>...</td>\n",
              "      <td>...</td>\n",
              "      <td>...</td>\n",
              "      <td>...</td>\n",
              "      <td>...</td>\n",
              "      <td>...</td>\n",
              "      <td>...</td>\n",
              "      <td>...</td>\n",
              "      <td>...</td>\n",
              "      <td>...</td>\n",
              "      <td>...</td>\n",
              "    </tr>\n",
              "    <tr>\n",
              "      <th>609</th>\n",
              "      <td>LP002978</td>\n",
              "      <td>Female</td>\n",
              "      <td>No</td>\n",
              "      <td>0</td>\n",
              "      <td>Graduate</td>\n",
              "      <td>No</td>\n",
              "      <td>2900</td>\n",
              "      <td>0.0</td>\n",
              "      <td>71.0</td>\n",
              "      <td>360.0</td>\n",
              "      <td>1.0</td>\n",
              "      <td>Rural</td>\n",
              "      <td>Y</td>\n",
              "    </tr>\n",
              "    <tr>\n",
              "      <th>610</th>\n",
              "      <td>LP002979</td>\n",
              "      <td>Male</td>\n",
              "      <td>Yes</td>\n",
              "      <td>3+</td>\n",
              "      <td>Graduate</td>\n",
              "      <td>No</td>\n",
              "      <td>4106</td>\n",
              "      <td>0.0</td>\n",
              "      <td>40.0</td>\n",
              "      <td>180.0</td>\n",
              "      <td>1.0</td>\n",
              "      <td>Rural</td>\n",
              "      <td>Y</td>\n",
              "    </tr>\n",
              "    <tr>\n",
              "      <th>611</th>\n",
              "      <td>LP002983</td>\n",
              "      <td>Male</td>\n",
              "      <td>Yes</td>\n",
              "      <td>1</td>\n",
              "      <td>Graduate</td>\n",
              "      <td>No</td>\n",
              "      <td>8072</td>\n",
              "      <td>240.0</td>\n",
              "      <td>253.0</td>\n",
              "      <td>360.0</td>\n",
              "      <td>1.0</td>\n",
              "      <td>Urban</td>\n",
              "      <td>Y</td>\n",
              "    </tr>\n",
              "    <tr>\n",
              "      <th>612</th>\n",
              "      <td>LP002984</td>\n",
              "      <td>Male</td>\n",
              "      <td>Yes</td>\n",
              "      <td>2</td>\n",
              "      <td>Graduate</td>\n",
              "      <td>No</td>\n",
              "      <td>7583</td>\n",
              "      <td>0.0</td>\n",
              "      <td>187.0</td>\n",
              "      <td>360.0</td>\n",
              "      <td>1.0</td>\n",
              "      <td>Urban</td>\n",
              "      <td>Y</td>\n",
              "    </tr>\n",
              "    <tr>\n",
              "      <th>613</th>\n",
              "      <td>LP002990</td>\n",
              "      <td>Female</td>\n",
              "      <td>No</td>\n",
              "      <td>0</td>\n",
              "      <td>Graduate</td>\n",
              "      <td>Yes</td>\n",
              "      <td>4583</td>\n",
              "      <td>0.0</td>\n",
              "      <td>133.0</td>\n",
              "      <td>360.0</td>\n",
              "      <td>0.0</td>\n",
              "      <td>Semiurban</td>\n",
              "      <td>N</td>\n",
              "    </tr>\n",
              "  </tbody>\n",
              "</table>\n",
              "<p>614 rows × 13 columns</p>\n",
              "</div>"
            ],
            "text/plain": [
              "      Loan_ID  Gender Married Dependents     Education Self_Employed  \\\n",
              "0    LP001002    Male      No          0      Graduate            No   \n",
              "1    LP001003    Male     Yes          1      Graduate            No   \n",
              "2    LP001005    Male     Yes          0      Graduate           Yes   \n",
              "3    LP001006    Male     Yes          0  Not Graduate            No   \n",
              "4    LP001008    Male      No          0      Graduate            No   \n",
              "..        ...     ...     ...        ...           ...           ...   \n",
              "609  LP002978  Female      No          0      Graduate            No   \n",
              "610  LP002979    Male     Yes         3+      Graduate            No   \n",
              "611  LP002983    Male     Yes          1      Graduate            No   \n",
              "612  LP002984    Male     Yes          2      Graduate            No   \n",
              "613  LP002990  Female      No          0      Graduate           Yes   \n",
              "\n",
              "     ApplicantIncome  CoapplicantIncome  LoanAmount  Loan_Amount_Term  \\\n",
              "0               5849                0.0         NaN             360.0   \n",
              "1               4583             1508.0       128.0             360.0   \n",
              "2               3000                0.0        66.0             360.0   \n",
              "3               2583             2358.0       120.0             360.0   \n",
              "4               6000                0.0       141.0             360.0   \n",
              "..               ...                ...         ...               ...   \n",
              "609             2900                0.0        71.0             360.0   \n",
              "610             4106                0.0        40.0             180.0   \n",
              "611             8072              240.0       253.0             360.0   \n",
              "612             7583                0.0       187.0             360.0   \n",
              "613             4583                0.0       133.0             360.0   \n",
              "\n",
              "     Credit_History Property_Area Loan_Status  \n",
              "0               1.0         Urban           Y  \n",
              "1               1.0         Rural           N  \n",
              "2               1.0         Urban           Y  \n",
              "3               1.0         Urban           Y  \n",
              "4               1.0         Urban           Y  \n",
              "..              ...           ...         ...  \n",
              "609             1.0         Rural           Y  \n",
              "610             1.0         Rural           Y  \n",
              "611             1.0         Urban           Y  \n",
              "612             1.0         Urban           Y  \n",
              "613             0.0     Semiurban           N  \n",
              "\n",
              "[614 rows x 13 columns]"
            ]
          },
          "execution_count": 2,
          "metadata": {},
          "output_type": "execute_result"
        }
      ],
      "source": [
        "df"
      ]
    },
    {
      "cell_type": "code",
      "execution_count": 3,
      "metadata": {
        "colab": {
          "base_uri": "https://localhost:8080/"
        },
        "id": "DA36tQH7Tb5X",
        "outputId": "a4dc69e1-d547-4999-f993-595e31cb014e"
      },
      "outputs": [
        {
          "name": "stdout",
          "output_type": "stream",
          "text": [
            "Mean  5403.459283387622\n",
            "Median  3812.5\n",
            "Mode  2500\n",
            "Standard Deviation  6104.064856533892\n",
            "Standard Deviation  6109.041673387178\n"
          ]
        }
      ],
      "source": [
        "# Summary Measures of a DataFrame Column using Statistics\n",
        "\n",
        "print('Mean ', st.mean(df['ApplicantIncome']))    #prints mean of only ApplicantIncome Variable\n",
        "print('Median ', st.median(df['ApplicantIncome']))    #prints median of only ApplicantIncome Variable\n",
        "print('Mode ', st.mode(df['ApplicantIncome']))    #prints mode of only ApplicantIncome Variable\n",
        "print('Standard Deviation ', st.pstdev(df['ApplicantIncome']))    #prints population standard deviation\n",
        "print('Standard Deviation ', st.stdev(df['ApplicantIncome']))    #prints sample standard deviation\n"
      ]
    },
    {
      "cell_type": "code",
      "execution_count": 4,
      "metadata": {
        "colab": {
          "base_uri": "https://localhost:8080/",
          "height": 300
        },
        "id": "_EBCpehGTb5Y",
        "outputId": "7cd449d8-e88b-46c4-d0a4-523cbf2cbbd1"
      },
      "outputs": [
        {
          "data": {
            "text/html": [
              "<div>\n",
              "<style scoped>\n",
              "    .dataframe tbody tr th:only-of-type {\n",
              "        vertical-align: middle;\n",
              "    }\n",
              "\n",
              "    .dataframe tbody tr th {\n",
              "        vertical-align: top;\n",
              "    }\n",
              "\n",
              "    .dataframe thead th {\n",
              "        text-align: right;\n",
              "    }\n",
              "</style>\n",
              "<table border=\"1\" class=\"dataframe\">\n",
              "  <thead>\n",
              "    <tr style=\"text-align: right;\">\n",
              "      <th></th>\n",
              "      <th>ApplicantIncome</th>\n",
              "      <th>CoapplicantIncome</th>\n",
              "      <th>LoanAmount</th>\n",
              "      <th>Loan_Amount_Term</th>\n",
              "      <th>Credit_History</th>\n",
              "    </tr>\n",
              "  </thead>\n",
              "  <tbody>\n",
              "    <tr>\n",
              "      <th>count</th>\n",
              "      <td>614.000000</td>\n",
              "      <td>614.000000</td>\n",
              "      <td>592.000000</td>\n",
              "      <td>600.00000</td>\n",
              "      <td>564.000000</td>\n",
              "    </tr>\n",
              "    <tr>\n",
              "      <th>mean</th>\n",
              "      <td>5403.459283</td>\n",
              "      <td>1621.245798</td>\n",
              "      <td>146.412162</td>\n",
              "      <td>342.00000</td>\n",
              "      <td>0.842199</td>\n",
              "    </tr>\n",
              "    <tr>\n",
              "      <th>std</th>\n",
              "      <td>6109.041673</td>\n",
              "      <td>2926.248369</td>\n",
              "      <td>85.587325</td>\n",
              "      <td>65.12041</td>\n",
              "      <td>0.364878</td>\n",
              "    </tr>\n",
              "    <tr>\n",
              "      <th>min</th>\n",
              "      <td>150.000000</td>\n",
              "      <td>0.000000</td>\n",
              "      <td>9.000000</td>\n",
              "      <td>12.00000</td>\n",
              "      <td>0.000000</td>\n",
              "    </tr>\n",
              "    <tr>\n",
              "      <th>25%</th>\n",
              "      <td>2877.500000</td>\n",
              "      <td>0.000000</td>\n",
              "      <td>100.000000</td>\n",
              "      <td>360.00000</td>\n",
              "      <td>1.000000</td>\n",
              "    </tr>\n",
              "    <tr>\n",
              "      <th>50%</th>\n",
              "      <td>3812.500000</td>\n",
              "      <td>1188.500000</td>\n",
              "      <td>128.000000</td>\n",
              "      <td>360.00000</td>\n",
              "      <td>1.000000</td>\n",
              "    </tr>\n",
              "    <tr>\n",
              "      <th>75%</th>\n",
              "      <td>5795.000000</td>\n",
              "      <td>2297.250000</td>\n",
              "      <td>168.000000</td>\n",
              "      <td>360.00000</td>\n",
              "      <td>1.000000</td>\n",
              "    </tr>\n",
              "    <tr>\n",
              "      <th>max</th>\n",
              "      <td>81000.000000</td>\n",
              "      <td>41667.000000</td>\n",
              "      <td>700.000000</td>\n",
              "      <td>480.00000</td>\n",
              "      <td>1.000000</td>\n",
              "    </tr>\n",
              "  </tbody>\n",
              "</table>\n",
              "</div>"
            ],
            "text/plain": [
              "       ApplicantIncome  CoapplicantIncome  LoanAmount  Loan_Amount_Term  \\\n",
              "count       614.000000         614.000000  592.000000         600.00000   \n",
              "mean       5403.459283        1621.245798  146.412162         342.00000   \n",
              "std        6109.041673        2926.248369   85.587325          65.12041   \n",
              "min         150.000000           0.000000    9.000000          12.00000   \n",
              "25%        2877.500000           0.000000  100.000000         360.00000   \n",
              "50%        3812.500000        1188.500000  128.000000         360.00000   \n",
              "75%        5795.000000        2297.250000  168.000000         360.00000   \n",
              "max       81000.000000       41667.000000  700.000000         480.00000   \n",
              "\n",
              "       Credit_History  \n",
              "count      564.000000  \n",
              "mean         0.842199  \n",
              "std          0.364878  \n",
              "min          0.000000  \n",
              "25%          1.000000  \n",
              "50%          1.000000  \n",
              "75%          1.000000  \n",
              "max          1.000000  "
            ]
          },
          "execution_count": 4,
          "metadata": {},
          "output_type": "execute_result"
        }
      ],
      "source": [
        "df.describe() #Provides summary measures for variables of type : int or float"
      ]
    },
    {
      "cell_type": "code",
      "execution_count": 5,
      "metadata": {
        "colab": {
          "base_uri": "https://localhost:8080/"
        },
        "id": "tAljS7LcTb5Z",
        "outputId": "335539de-bac2-4ed5-d818-aed03cb3206d"
      },
      "outputs": [
        {
          "name": "stdout",
          "output_type": "stream",
          "text": [
            "Property_Area\n",
            "Semiurban    233\n",
            "Urban        202\n",
            "Rural        179\n",
            "Name: count, dtype: int64\n"
          ]
        }
      ],
      "source": [
        "print(df['Property_Area'].value_counts())     #for categorial data(works like group_by)"
      ]
    },
    {
      "cell_type": "code",
      "execution_count": 6,
      "metadata": {
        "colab": {
          "base_uri": "https://localhost:8080/"
        },
        "id": "lmJXLlsFTb5Z",
        "outputId": "d2169c29-305e-4214-eec0-e05f9f209334"
      },
      "outputs": [
        {
          "data": {
            "text/plain": [
              "np.float64(5403.459283387622)"
            ]
          },
          "execution_count": 6,
          "metadata": {},
          "output_type": "execute_result"
        }
      ],
      "source": [
        "df['ApplicantIncome'].mean()\n"
      ]
    },
    {
      "cell_type": "code",
      "execution_count": 7,
      "metadata": {
        "colab": {
          "base_uri": "https://localhost:8080/",
          "height": 241
        },
        "id": "vNbjAAF_Tb5a",
        "outputId": "0d2d9c5d-6433-4d5d-fdb4-2b8384f3d76d"
      },
      "outputs": [
        {
          "data": {
            "text/plain": [
              "ApplicantIncome      3812.5\n",
              "CoapplicantIncome    1188.5\n",
              "LoanAmount            128.0\n",
              "Loan_Amount_Term      360.0\n",
              "Credit_History          1.0\n",
              "dtype: float64"
            ]
          },
          "execution_count": 7,
          "metadata": {},
          "output_type": "execute_result"
        }
      ],
      "source": [
        "df.median(numeric_only=True)"
      ]
    },
    {
      "cell_type": "code",
      "execution_count": 8,
      "metadata": {
        "colab": {
          "base_uri": "https://localhost:8080/",
          "height": 241
        },
        "id": "zWrpwzrvRiD4",
        "outputId": "7387212e-149f-46ff-c066-67d393f07389"
      },
      "outputs": [
        {
          "data": {
            "text/plain": [
              "ApplicantIncome      3812.5\n",
              "CoapplicantIncome    1188.5\n",
              "LoanAmount            128.0\n",
              "Loan_Amount_Term      360.0\n",
              "Credit_History          1.0\n",
              "Name: 0.5, dtype: float64"
            ]
          },
          "execution_count": 8,
          "metadata": {},
          "output_type": "execute_result"
        }
      ],
      "source": [
        "df.quantile(numeric_only=True)"
      ]
    },
    {
      "cell_type": "code",
      "execution_count": 9,
      "metadata": {
        "colab": {
          "base_uri": "https://localhost:8080/",
          "height": 143
        },
        "id": "wWuSsbB_RqQ4",
        "outputId": "287e4eac-a984-4ad7-cff3-ec051052b52e"
      },
      "outputs": [
        {
          "data": {
            "text/html": [
              "<div>\n",
              "<style scoped>\n",
              "    .dataframe tbody tr th:only-of-type {\n",
              "        vertical-align: middle;\n",
              "    }\n",
              "\n",
              "    .dataframe tbody tr th {\n",
              "        vertical-align: top;\n",
              "    }\n",
              "\n",
              "    .dataframe thead th {\n",
              "        text-align: right;\n",
              "    }\n",
              "</style>\n",
              "<table border=\"1\" class=\"dataframe\">\n",
              "  <thead>\n",
              "    <tr style=\"text-align: right;\">\n",
              "      <th></th>\n",
              "      <th>ApplicantIncome</th>\n",
              "      <th>CoapplicantIncome</th>\n",
              "      <th>LoanAmount</th>\n",
              "      <th>Loan_Amount_Term</th>\n",
              "      <th>Credit_History</th>\n",
              "    </tr>\n",
              "  </thead>\n",
              "  <tbody>\n",
              "    <tr>\n",
              "      <th>0.25</th>\n",
              "      <td>2877.5</td>\n",
              "      <td>0.00</td>\n",
              "      <td>100.0</td>\n",
              "      <td>360.0</td>\n",
              "      <td>1.0</td>\n",
              "    </tr>\n",
              "    <tr>\n",
              "      <th>0.50</th>\n",
              "      <td>3812.5</td>\n",
              "      <td>1188.50</td>\n",
              "      <td>128.0</td>\n",
              "      <td>360.0</td>\n",
              "      <td>1.0</td>\n",
              "    </tr>\n",
              "    <tr>\n",
              "      <th>0.75</th>\n",
              "      <td>5795.0</td>\n",
              "      <td>2297.25</td>\n",
              "      <td>168.0</td>\n",
              "      <td>360.0</td>\n",
              "      <td>1.0</td>\n",
              "    </tr>\n",
              "  </tbody>\n",
              "</table>\n",
              "</div>"
            ],
            "text/plain": [
              "      ApplicantIncome  CoapplicantIncome  LoanAmount  Loan_Amount_Term  \\\n",
              "0.25           2877.5               0.00       100.0             360.0   \n",
              "0.50           3812.5            1188.50       128.0             360.0   \n",
              "0.75           5795.0            2297.25       168.0             360.0   \n",
              "\n",
              "      Credit_History  \n",
              "0.25             1.0  \n",
              "0.50             1.0  \n",
              "0.75             1.0  "
            ]
          },
          "execution_count": 9,
          "metadata": {},
          "output_type": "execute_result"
        }
      ],
      "source": [
        "df.quantile([0.25,0.5,0.75],numeric_only=True)"
      ]
    },
    {
      "cell_type": "code",
      "execution_count": 10,
      "metadata": {
        "colab": {
          "base_uri": "https://localhost:8080/",
          "height": 443
        },
        "id": "wEAym9q4Tb5b",
        "outputId": "42d18a7b-1515-42ba-8cc2-dc647d656dc9"
      },
      "outputs": [
        {
          "data": {
            "text/html": [
              "<div>\n",
              "<style scoped>\n",
              "    .dataframe tbody tr th:only-of-type {\n",
              "        vertical-align: middle;\n",
              "    }\n",
              "\n",
              "    .dataframe tbody tr th {\n",
              "        vertical-align: top;\n",
              "    }\n",
              "\n",
              "    .dataframe thead th {\n",
              "        text-align: right;\n",
              "    }\n",
              "</style>\n",
              "<table border=\"1\" class=\"dataframe\">\n",
              "  <thead>\n",
              "    <tr style=\"text-align: right;\">\n",
              "      <th></th>\n",
              "      <th>Loan_ID</th>\n",
              "      <th>Gender</th>\n",
              "      <th>Married</th>\n",
              "      <th>Dependents</th>\n",
              "      <th>Education</th>\n",
              "      <th>Self_Employed</th>\n",
              "      <th>ApplicantIncome</th>\n",
              "      <th>CoapplicantIncome</th>\n",
              "      <th>LoanAmount</th>\n",
              "      <th>Loan_Amount_Term</th>\n",
              "      <th>Credit_History</th>\n",
              "      <th>Property_Area</th>\n",
              "      <th>Loan_Status</th>\n",
              "    </tr>\n",
              "  </thead>\n",
              "  <tbody>\n",
              "    <tr>\n",
              "      <th>0</th>\n",
              "      <td>LP001002</td>\n",
              "      <td>Male</td>\n",
              "      <td>Yes</td>\n",
              "      <td>0</td>\n",
              "      <td>Graduate</td>\n",
              "      <td>No</td>\n",
              "      <td>2500.0</td>\n",
              "      <td>0.0</td>\n",
              "      <td>120.0</td>\n",
              "      <td>360.0</td>\n",
              "      <td>1.0</td>\n",
              "      <td>Semiurban</td>\n",
              "      <td>Y</td>\n",
              "    </tr>\n",
              "    <tr>\n",
              "      <th>1</th>\n",
              "      <td>LP001003</td>\n",
              "      <td>NaN</td>\n",
              "      <td>NaN</td>\n",
              "      <td>NaN</td>\n",
              "      <td>NaN</td>\n",
              "      <td>NaN</td>\n",
              "      <td>NaN</td>\n",
              "      <td>NaN</td>\n",
              "      <td>NaN</td>\n",
              "      <td>NaN</td>\n",
              "      <td>NaN</td>\n",
              "      <td>NaN</td>\n",
              "      <td>NaN</td>\n",
              "    </tr>\n",
              "    <tr>\n",
              "      <th>2</th>\n",
              "      <td>LP001005</td>\n",
              "      <td>NaN</td>\n",
              "      <td>NaN</td>\n",
              "      <td>NaN</td>\n",
              "      <td>NaN</td>\n",
              "      <td>NaN</td>\n",
              "      <td>NaN</td>\n",
              "      <td>NaN</td>\n",
              "      <td>NaN</td>\n",
              "      <td>NaN</td>\n",
              "      <td>NaN</td>\n",
              "      <td>NaN</td>\n",
              "      <td>NaN</td>\n",
              "    </tr>\n",
              "    <tr>\n",
              "      <th>3</th>\n",
              "      <td>LP001006</td>\n",
              "      <td>NaN</td>\n",
              "      <td>NaN</td>\n",
              "      <td>NaN</td>\n",
              "      <td>NaN</td>\n",
              "      <td>NaN</td>\n",
              "      <td>NaN</td>\n",
              "      <td>NaN</td>\n",
              "      <td>NaN</td>\n",
              "      <td>NaN</td>\n",
              "      <td>NaN</td>\n",
              "      <td>NaN</td>\n",
              "      <td>NaN</td>\n",
              "    </tr>\n",
              "    <tr>\n",
              "      <th>4</th>\n",
              "      <td>LP001008</td>\n",
              "      <td>NaN</td>\n",
              "      <td>NaN</td>\n",
              "      <td>NaN</td>\n",
              "      <td>NaN</td>\n",
              "      <td>NaN</td>\n",
              "      <td>NaN</td>\n",
              "      <td>NaN</td>\n",
              "      <td>NaN</td>\n",
              "      <td>NaN</td>\n",
              "      <td>NaN</td>\n",
              "      <td>NaN</td>\n",
              "      <td>NaN</td>\n",
              "    </tr>\n",
              "    <tr>\n",
              "      <th>...</th>\n",
              "      <td>...</td>\n",
              "      <td>...</td>\n",
              "      <td>...</td>\n",
              "      <td>...</td>\n",
              "      <td>...</td>\n",
              "      <td>...</td>\n",
              "      <td>...</td>\n",
              "      <td>...</td>\n",
              "      <td>...</td>\n",
              "      <td>...</td>\n",
              "      <td>...</td>\n",
              "      <td>...</td>\n",
              "      <td>...</td>\n",
              "    </tr>\n",
              "    <tr>\n",
              "      <th>609</th>\n",
              "      <td>LP002978</td>\n",
              "      <td>NaN</td>\n",
              "      <td>NaN</td>\n",
              "      <td>NaN</td>\n",
              "      <td>NaN</td>\n",
              "      <td>NaN</td>\n",
              "      <td>NaN</td>\n",
              "      <td>NaN</td>\n",
              "      <td>NaN</td>\n",
              "      <td>NaN</td>\n",
              "      <td>NaN</td>\n",
              "      <td>NaN</td>\n",
              "      <td>NaN</td>\n",
              "    </tr>\n",
              "    <tr>\n",
              "      <th>610</th>\n",
              "      <td>LP002979</td>\n",
              "      <td>NaN</td>\n",
              "      <td>NaN</td>\n",
              "      <td>NaN</td>\n",
              "      <td>NaN</td>\n",
              "      <td>NaN</td>\n",
              "      <td>NaN</td>\n",
              "      <td>NaN</td>\n",
              "      <td>NaN</td>\n",
              "      <td>NaN</td>\n",
              "      <td>NaN</td>\n",
              "      <td>NaN</td>\n",
              "      <td>NaN</td>\n",
              "    </tr>\n",
              "    <tr>\n",
              "      <th>611</th>\n",
              "      <td>LP002983</td>\n",
              "      <td>NaN</td>\n",
              "      <td>NaN</td>\n",
              "      <td>NaN</td>\n",
              "      <td>NaN</td>\n",
              "      <td>NaN</td>\n",
              "      <td>NaN</td>\n",
              "      <td>NaN</td>\n",
              "      <td>NaN</td>\n",
              "      <td>NaN</td>\n",
              "      <td>NaN</td>\n",
              "      <td>NaN</td>\n",
              "      <td>NaN</td>\n",
              "    </tr>\n",
              "    <tr>\n",
              "      <th>612</th>\n",
              "      <td>LP002984</td>\n",
              "      <td>NaN</td>\n",
              "      <td>NaN</td>\n",
              "      <td>NaN</td>\n",
              "      <td>NaN</td>\n",
              "      <td>NaN</td>\n",
              "      <td>NaN</td>\n",
              "      <td>NaN</td>\n",
              "      <td>NaN</td>\n",
              "      <td>NaN</td>\n",
              "      <td>NaN</td>\n",
              "      <td>NaN</td>\n",
              "      <td>NaN</td>\n",
              "    </tr>\n",
              "    <tr>\n",
              "      <th>613</th>\n",
              "      <td>LP002990</td>\n",
              "      <td>NaN</td>\n",
              "      <td>NaN</td>\n",
              "      <td>NaN</td>\n",
              "      <td>NaN</td>\n",
              "      <td>NaN</td>\n",
              "      <td>NaN</td>\n",
              "      <td>NaN</td>\n",
              "      <td>NaN</td>\n",
              "      <td>NaN</td>\n",
              "      <td>NaN</td>\n",
              "      <td>NaN</td>\n",
              "      <td>NaN</td>\n",
              "    </tr>\n",
              "  </tbody>\n",
              "</table>\n",
              "<p>614 rows × 13 columns</p>\n",
              "</div>"
            ],
            "text/plain": [
              "      Loan_ID Gender Married Dependents Education Self_Employed  \\\n",
              "0    LP001002   Male     Yes          0  Graduate            No   \n",
              "1    LP001003    NaN     NaN        NaN       NaN           NaN   \n",
              "2    LP001005    NaN     NaN        NaN       NaN           NaN   \n",
              "3    LP001006    NaN     NaN        NaN       NaN           NaN   \n",
              "4    LP001008    NaN     NaN        NaN       NaN           NaN   \n",
              "..        ...    ...     ...        ...       ...           ...   \n",
              "609  LP002978    NaN     NaN        NaN       NaN           NaN   \n",
              "610  LP002979    NaN     NaN        NaN       NaN           NaN   \n",
              "611  LP002983    NaN     NaN        NaN       NaN           NaN   \n",
              "612  LP002984    NaN     NaN        NaN       NaN           NaN   \n",
              "613  LP002990    NaN     NaN        NaN       NaN           NaN   \n",
              "\n",
              "     ApplicantIncome  CoapplicantIncome  LoanAmount  Loan_Amount_Term  \\\n",
              "0             2500.0                0.0       120.0             360.0   \n",
              "1                NaN                NaN         NaN               NaN   \n",
              "2                NaN                NaN         NaN               NaN   \n",
              "3                NaN                NaN         NaN               NaN   \n",
              "4                NaN                NaN         NaN               NaN   \n",
              "..               ...                ...         ...               ...   \n",
              "609              NaN                NaN         NaN               NaN   \n",
              "610              NaN                NaN         NaN               NaN   \n",
              "611              NaN                NaN         NaN               NaN   \n",
              "612              NaN                NaN         NaN               NaN   \n",
              "613              NaN                NaN         NaN               NaN   \n",
              "\n",
              "     Credit_History Property_Area Loan_Status  \n",
              "0               1.0     Semiurban           Y  \n",
              "1               NaN           NaN         NaN  \n",
              "2               NaN           NaN         NaN  \n",
              "3               NaN           NaN         NaN  \n",
              "4               NaN           NaN         NaN  \n",
              "..              ...           ...         ...  \n",
              "609             NaN           NaN         NaN  \n",
              "610             NaN           NaN         NaN  \n",
              "611             NaN           NaN         NaN  \n",
              "612             NaN           NaN         NaN  \n",
              "613             NaN           NaN         NaN  \n",
              "\n",
              "[614 rows x 13 columns]"
            ]
          },
          "execution_count": 10,
          "metadata": {},
          "output_type": "execute_result"
        }
      ],
      "source": [
        "df.mode()"
      ]
    },
    {
      "cell_type": "code",
      "execution_count": 11,
      "metadata": {
        "colab": {
          "base_uri": "https://localhost:8080/"
        },
        "id": "KpnL_qbUTb5b",
        "outputId": "8593fad0-4498-4f50-8659-985ef6fda2e9"
      },
      "outputs": [
        {
          "name": "stdout",
          "output_type": "stream",
          "text": [
            "['LP001002', 'LP001003', 'LP001005', 'LP001006', 'LP001008', 'LP001011', 'LP001013', 'LP001014', 'LP001018', 'LP001020', 'LP001024', 'LP001027', 'LP001028', 'LP001029', 'LP001030', 'LP001032', 'LP001034', 'LP001036', 'LP001038', 'LP001041', 'LP001043', 'LP001046', 'LP001047', 'LP001050', 'LP001052', 'LP001066', 'LP001068', 'LP001073', 'LP001086', 'LP001087', 'LP001091', 'LP001095', 'LP001097', 'LP001098', 'LP001100', 'LP001106', 'LP001109', 'LP001112', 'LP001114', 'LP001116', 'LP001119', 'LP001120', 'LP001123', 'LP001131', 'LP001136', 'LP001137', 'LP001138', 'LP001144', 'LP001146', 'LP001151', 'LP001155', 'LP001157', 'LP001164', 'LP001179', 'LP001186', 'LP001194', 'LP001195', 'LP001197', 'LP001198', 'LP001199', 'LP001205', 'LP001206', 'LP001207', 'LP001213', 'LP001222', 'LP001225', 'LP001228', 'LP001233', 'LP001238', 'LP001241', 'LP001243', 'LP001245', 'LP001248', 'LP001250', 'LP001253', 'LP001255', 'LP001256', 'LP001259', 'LP001263', 'LP001264', 'LP001265', 'LP001266', 'LP001267', 'LP001273', 'LP001275', 'LP001279', 'LP001280', 'LP001282', 'LP001289', 'LP001310', 'LP001316', 'LP001318', 'LP001319', 'LP001322', 'LP001325', 'LP001326', 'LP001327', 'LP001333', 'LP001334', 'LP001343', 'LP001345', 'LP001349', 'LP001350', 'LP001356', 'LP001357', 'LP001367', 'LP001369', 'LP001370', 'LP001379', 'LP001384', 'LP001385', 'LP001387', 'LP001391', 'LP001392', 'LP001398', 'LP001401', 'LP001404', 'LP001405', 'LP001421', 'LP001422', 'LP001426', 'LP001430', 'LP001431', 'LP001432', 'LP001439', 'LP001443', 'LP001448', 'LP001449', 'LP001451', 'LP001465', 'LP001469', 'LP001473', 'LP001478', 'LP001482', 'LP001487', 'LP001488', 'LP001489', 'LP001491', 'LP001492', 'LP001493', 'LP001497', 'LP001498', 'LP001504', 'LP001507', 'LP001508', 'LP001514', 'LP001516', 'LP001518', 'LP001519', 'LP001520', 'LP001528', 'LP001529', 'LP001531', 'LP001532', 'LP001535', 'LP001536', 'LP001541', 'LP001543', 'LP001546', 'LP001552', 'LP001560', 'LP001562', 'LP001565', 'LP001570', 'LP001572', 'LP001574', 'LP001577', 'LP001578', 'LP001579', 'LP001580', 'LP001581', 'LP001585', 'LP001586', 'LP001594', 'LP001603', 'LP001606', 'LP001608', 'LP001610', 'LP001616', 'LP001630', 'LP001633', 'LP001634', 'LP001636', 'LP001637', 'LP001639', 'LP001640', 'LP001641', 'LP001643', 'LP001644', 'LP001647', 'LP001653', 'LP001656', 'LP001657', 'LP001658', 'LP001664', 'LP001665', 'LP001666', 'LP001669', 'LP001671', 'LP001673', 'LP001674', 'LP001677', 'LP001682', 'LP001688', 'LP001691', 'LP001692', 'LP001693', 'LP001698', 'LP001699', 'LP001702', 'LP001708', 'LP001711', 'LP001713', 'LP001715', 'LP001716', 'LP001720', 'LP001722', 'LP001726', 'LP001732', 'LP001734', 'LP001736', 'LP001743', 'LP001744', 'LP001749', 'LP001750', 'LP001751', 'LP001754', 'LP001758', 'LP001760', 'LP001761', 'LP001765', 'LP001768', 'LP001770', 'LP001776', 'LP001778', 'LP001784', 'LP001786', 'LP001788', 'LP001790', 'LP001792', 'LP001798', 'LP001800', 'LP001806', 'LP001807', 'LP001811', 'LP001813', 'LP001814', 'LP001819', 'LP001824', 'LP001825', 'LP001835', 'LP001836', 'LP001841', 'LP001843', 'LP001844', 'LP001846', 'LP001849', 'LP001854', 'LP001859', 'LP001864', 'LP001865', 'LP001868', 'LP001870', 'LP001871', 'LP001872', 'LP001875', 'LP001877', 'LP001882', 'LP001883', 'LP001884', 'LP001888', 'LP001891', 'LP001892', 'LP001894', 'LP001896', 'LP001900', 'LP001903', 'LP001904', 'LP001907', 'LP001908', 'LP001910', 'LP001914', 'LP001915', 'LP001917', 'LP001922', 'LP001924', 'LP001925', 'LP001926', 'LP001931', 'LP001935', 'LP001936', 'LP001938', 'LP001940', 'LP001945', 'LP001947', 'LP001949', 'LP001953', 'LP001954', 'LP001955', 'LP001963', 'LP001964', 'LP001972', 'LP001974', 'LP001977', 'LP001978', 'LP001990', 'LP001993', 'LP001994', 'LP001996', 'LP001998', 'LP002002', 'LP002004', 'LP002006', 'LP002008', 'LP002024', 'LP002031', 'LP002035', 'LP002036', 'LP002043', 'LP002050', 'LP002051', 'LP002053', 'LP002054', 'LP002055', 'LP002065', 'LP002067', 'LP002068', 'LP002082', 'LP002086', 'LP002087', 'LP002097', 'LP002098', 'LP002100', 'LP002101', 'LP002103', 'LP002106', 'LP002110', 'LP002112', 'LP002113', 'LP002114', 'LP002115', 'LP002116', 'LP002119', 'LP002126', 'LP002128', 'LP002129', 'LP002130', 'LP002131', 'LP002137', 'LP002138', 'LP002139', 'LP002140', 'LP002141', 'LP002142', 'LP002143', 'LP002144', 'LP002149', 'LP002151', 'LP002158', 'LP002160', 'LP002161', 'LP002170', 'LP002175', 'LP002178', 'LP002180', 'LP002181', 'LP002187', 'LP002188', 'LP002190', 'LP002191', 'LP002194', 'LP002197', 'LP002201', 'LP002205', 'LP002209', 'LP002211', 'LP002219', 'LP002223', 'LP002224', 'LP002225', 'LP002226', 'LP002229', 'LP002231', 'LP002234', 'LP002236', 'LP002237', 'LP002239', 'LP002243', 'LP002244', 'LP002250', 'LP002255', 'LP002262', 'LP002263', 'LP002265', 'LP002266', 'LP002272', 'LP002277', 'LP002281', 'LP002284', 'LP002287', 'LP002288', 'LP002296', 'LP002297', 'LP002300', 'LP002301', 'LP002305', 'LP002308', 'LP002314', 'LP002315', 'LP002317', 'LP002318', 'LP002319', 'LP002328', 'LP002332', 'LP002335', 'LP002337', 'LP002341', 'LP002342', 'LP002345', 'LP002347', 'LP002348', 'LP002357', 'LP002361', 'LP002362', 'LP002364', 'LP002366', 'LP002367', 'LP002368', 'LP002369', 'LP002370', 'LP002377', 'LP002379', 'LP002386', 'LP002387', 'LP002390', 'LP002393', 'LP002398', 'LP002401', 'LP002403', 'LP002407', 'LP002408', 'LP002409', 'LP002418', 'LP002422', 'LP002424', 'LP002429', 'LP002434', 'LP002435', 'LP002443', 'LP002444', 'LP002446', 'LP002447', 'LP002448', 'LP002449', 'LP002453', 'LP002455', 'LP002459', 'LP002467', 'LP002472', 'LP002473', 'LP002478', 'LP002484', 'LP002487', 'LP002489', 'LP002493', 'LP002494', 'LP002500', 'LP002501', 'LP002502', 'LP002505', 'LP002515', 'LP002517', 'LP002519', 'LP002522', 'LP002524', 'LP002527', 'LP002529', 'LP002530', 'LP002531', 'LP002533', 'LP002534', 'LP002536', 'LP002537', 'LP002541', 'LP002543', 'LP002544', 'LP002545', 'LP002547', 'LP002555', 'LP002556', 'LP002560', 'LP002562', 'LP002571', 'LP002582', 'LP002585', 'LP002586', 'LP002587', 'LP002588', 'LP002600', 'LP002602', 'LP002603', 'LP002606', 'LP002615', 'LP002618', 'LP002619', 'LP002622', 'LP002624', 'LP002625', 'LP002626', 'LP002634', 'LP002637', 'LP002640', 'LP002643', 'LP002648', 'LP002652', 'LP002659', 'LP002670', 'LP002682', 'LP002683', 'LP002684', 'LP002689', 'LP002690', 'LP002692', 'LP002693', 'LP002697', 'LP002699', 'LP002705', 'LP002706', 'LP002714', 'LP002716', 'LP002717', 'LP002720', 'LP002723', 'LP002729', 'LP002731', 'LP002732', 'LP002734', 'LP002738', 'LP002739', 'LP002740', 'LP002741', 'LP002743', 'LP002753', 'LP002755', 'LP002757', 'LP002767', 'LP002768', 'LP002772', 'LP002776', 'LP002777', 'LP002778', 'LP002784', 'LP002785', 'LP002788', 'LP002789', 'LP002792', 'LP002794', 'LP002795', 'LP002798', 'LP002804', 'LP002807', 'LP002813', 'LP002820', 'LP002821', 'LP002832', 'LP002833', 'LP002836', 'LP002837', 'LP002840', 'LP002841', 'LP002842', 'LP002847', 'LP002855', 'LP002862', 'LP002863', 'LP002868', 'LP002872', 'LP002874', 'LP002877', 'LP002888', 'LP002892', 'LP002893', 'LP002894', 'LP002898', 'LP002911', 'LP002912', 'LP002916', 'LP002917', 'LP002925', 'LP002926', 'LP002928', 'LP002931', 'LP002933', 'LP002936', 'LP002938', 'LP002940', 'LP002941', 'LP002943', 'LP002945', 'LP002948', 'LP002949', 'LP002950', 'LP002953', 'LP002958', 'LP002959', 'LP002960', 'LP002961', 'LP002964', 'LP002974', 'LP002978', 'LP002979', 'LP002983', 'LP002984', 'LP002990']\n"
          ]
        }
      ],
      "source": [
        "loan_id_mode=df['Loan_ID'].mode()\n",
        "# If mode returns multiple values, it means there are duplicates\n",
        "if len(loan_id_mode) > 1:\n",
        "    print(loan_id_mode.tolist())  # Output the modes as a list\n",
        "else:\n",
        "    print([])  # Output an empty list for unique values"
      ]
    },
    {
      "cell_type": "code",
      "execution_count": 12,
      "metadata": {
        "colab": {
          "base_uri": "https://localhost:8080/"
        },
        "id": "iwOzVxwCT9L5",
        "outputId": "abff5068-6f25-4779-c9da-28b817afd70b"
      },
      "outputs": [
        {
          "name": "stdout",
          "output_type": "stream",
          "text": [
            "[]\n"
          ]
        }
      ],
      "source": [
        "#Check if the number of unique values is the same as the total number of values\n",
        "if df['Loan_ID'].nunique() == df['Loan_ID'].shape[0]:\n",
        "    print([])  # Output empty list if all values are unique\n",
        "else:\n",
        "    print(df['Loan_ID'].mode().tolist())\n"
      ]
    },
    {
      "cell_type": "code",
      "execution_count": 13,
      "metadata": {
        "colab": {
          "base_uri": "https://localhost:8080/",
          "height": 115
        },
        "id": "VZkT6PlJTb5c",
        "outputId": "4945f09c-4e8b-4c86-aa1e-55af714b50ca"
      },
      "outputs": [
        {
          "data": {
            "text/plain": [
              "0    0\n",
              "Name: Dependents, dtype: object"
            ]
          },
          "execution_count": 13,
          "metadata": {},
          "output_type": "execute_result"
        }
      ],
      "source": [
        "df['Dependents'].mode()"
      ]
    },
    {
      "cell_type": "code",
      "execution_count": 14,
      "metadata": {
        "colab": {
          "base_uri": "https://localhost:8080/",
          "height": 241
        },
        "id": "ErSBM2BGTb5d",
        "outputId": "1f929700-a70b-4a00-9f3d-1788e0254314"
      },
      "outputs": [
        {
          "data": {
            "text/plain": [
              "ApplicantIncome      6109.041673\n",
              "CoapplicantIncome    2926.248369\n",
              "LoanAmount             85.587325\n",
              "Loan_Amount_Term       65.120410\n",
              "Credit_History          0.364878\n",
              "dtype: float64"
            ]
          },
          "execution_count": 14,
          "metadata": {},
          "output_type": "execute_result"
        }
      ],
      "source": [
        "df.std(numeric_only=True)"
      ]
    },
    {
      "cell_type": "code",
      "execution_count": 15,
      "metadata": {
        "colab": {
          "base_uri": "https://localhost:8080/",
          "height": 241
        },
        "id": "l54yblY_Tb5d",
        "outputId": "49365993-1119-4e11-92c1-9d299198e377"
      },
      "outputs": [
        {
          "data": {
            "text/plain": [
              "ApplicantIncome      150.0\n",
              "CoapplicantIncome      0.0\n",
              "LoanAmount             9.0\n",
              "Loan_Amount_Term      12.0\n",
              "Credit_History         0.0\n",
              "dtype: float64"
            ]
          },
          "execution_count": 15,
          "metadata": {},
          "output_type": "execute_result"
        }
      ],
      "source": [
        "df.min(numeric_only=True)"
      ]
    },
    {
      "cell_type": "code",
      "execution_count": 16,
      "metadata": {
        "colab": {
          "base_uri": "https://localhost:8080/",
          "height": 241
        },
        "id": "LlFCUdUsTb5d",
        "outputId": "8b0072ae-b684-467f-f4e4-1f1ddb6d9c51"
      },
      "outputs": [
        {
          "data": {
            "text/plain": [
              "ApplicantIncome      3.732039e+07\n",
              "CoapplicantIncome    8.562930e+06\n",
              "LoanAmount           7.325190e+03\n",
              "Loan_Amount_Term     4.240668e+03\n",
              "Credit_History       1.331362e-01\n",
              "dtype: float64"
            ]
          },
          "execution_count": 16,
          "metadata": {},
          "output_type": "execute_result"
        }
      ],
      "source": [
        "df.var(numeric_only=True)"
      ]
    }
  ],
  "metadata": {
    "colab": {
      "provenance": []
    },
    "kernelspec": {
      "display_name": "Python 3",
      "language": "python",
      "name": "python3"
    },
    "language_info": {
      "codemirror_mode": {
        "name": "ipython",
        "version": 3
      },
      "file_extension": ".py",
      "mimetype": "text/x-python",
      "name": "python",
      "nbconvert_exporter": "python",
      "pygments_lexer": "ipython3",
      "version": "3.12.6"
    }
  },
  "nbformat": 4,
  "nbformat_minor": 0
}
